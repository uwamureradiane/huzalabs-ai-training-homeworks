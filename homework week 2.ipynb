{
 "cells": [
  {
   "cell_type": "markdown",
   "id": "0fb7a147",
   "metadata": {},
   "source": [
    "#  Quiz 1 - Version A (Free Response 1: isSmallFair(n))\n"
   ]
  },
  {
   "cell_type": "code",
   "execution_count": 20,
   "id": "91b409e3",
   "metadata": {},
   "outputs": [],
   "source": [
    "# my solution to question 1 below\n",
    "def isSmallFair(n):\n",
    "    # Step 1: Check if n is an integer\n",
    "    if not isinstance(n, int):\n",
    "        return False\n",
    "\n",
    "    # Step 2: Initialize counters for even and odd digits\n",
    "    def count_digits(num, even_count=0, odd_count=0):\n",
    "        if num == 0:\n",
    "            return even_count, odd_count\n",
    "        digit = abs(num) % 10\n",
    "        if digit % 2 == 0:\n",
    "            even_count += 1\n",
    "        else:\n",
    "            odd_count += 1\n",
    "        return count_digits(num // 10, even_count, odd_count)\n",
    "\n",
    "    even_count, odd_count = count_digits(n)\n",
    "\n",
    "    # Step 3: Check if it's a small fair number\n",
    "    return even_count == odd_count == 2 and 1000 <= abs(n) < 10000\n",
    "\n",
    "# Test cases\n",
    "def testIsSmallFair():\n",
    "    assert isSmallFair(1001) == True\n",
    "    assert isSmallFair(-1083) == True\n",
    "    assert isSmallFair(1112) == False\n",
    "    assert isSmallFair(83) == False\n",
    "    assert isSmallFair('axolotl') == False\n"
   ]
  },
  {
   "cell_type": "markdown",
   "id": "1c6d1184",
   "metadata": {},
   "source": [
    "#  Quiz 1 - Version B (Free Response 1: isSmallWobble(n) )"
   ]
  },
  {
   "cell_type": "code",
   "execution_count": 2,
   "id": "be922f21",
   "metadata": {},
   "outputs": [
    {
     "name": "stdout",
     "output_type": "stream",
     "text": [
      "True\n",
      "True\n",
      "False\n",
      "False\n",
      "False\n"
     ]
    }
   ],
   "source": [
    "# my solution to question 2 below\n",
    "def isSmallWobble(n):\n",
    "   \n",
    "    if not isinstance(n, int):\n",
    "        return False\n",
    "    \n",
    "    # Convert n to its absolute value\n",
    "    n = abs(n)\n",
    "    \n",
    "    # Count the number of even and odd digits\n",
    "    even_count = odd_count = 0\n",
    "    \n",
    "    # Check each digit\n",
    "    while n > 0:\n",
    "        digit = n % 10\n",
    "        if digit % 2 == 0:\n",
    "            even_count += 1\n",
    "        else:\n",
    "            odd_count += 1\n",
    "        n //= 10\n",
    "    \n",
    "    \n",
    "    return even_count == 1 and odd_count == 3\n",
    "\n",
    "# Test cases\n",
    "print(isSmallWobble(1121))  # True\n",
    "print(isSmallWobble(-1091))  # True\n",
    "print(isSmallWobble(1681)) # False\n",
    "print(isSmallWobble(83))  # False\n",
    "print(isSmallWobble(\"axolotl\")) # False\n"
   ]
  },
  {
   "cell_type": "markdown",
   "id": "145d2809",
   "metadata": {},
   "source": [
    "#  hw2 - Part A -Question 1(digitCount(n) )"
   ]
  },
  {
   "cell_type": "code",
   "execution_count": 3,
   "id": "336b8f2d",
   "metadata": {},
   "outputs": [
    {
     "name": "stdout",
     "output_type": "stream",
     "text": [
      "5\n",
      "3\n",
      "1\n"
     ]
    }
   ],
   "source": [
    "# my solution to question 1 below\n",
    "def  digitCount(n):\n",
    "    n=abs(n)\n",
    "    if n==0:\n",
    "        return 1\n",
    "    count=0\n",
    "    while n>0:\n",
    "        n//=10\n",
    "        count+=1\n",
    "    return count\n",
    "print(digitCount(12323))\n",
    "print(digitCount(-111))\n",
    "print(digitCount(0))\n",
    "\n",
    "        "
   ]
  },
  {
   "cell_type": "markdown",
   "id": "9f935d31",
   "metadata": {},
   "source": [
    "# hw2 - Part A -Question 2(gcd(m, n) )"
   ]
  },
  {
   "cell_type": "code",
   "execution_count": 4,
   "id": "1dd99650",
   "metadata": {},
   "outputs": [
    {
     "name": "stdout",
     "output_type": "stream",
     "text": [
      "10\n",
      "6\n"
     ]
    }
   ],
   "source": [
    "# my solution to question 2 below\n",
    "def gcd(x, y):\n",
    "    if y == 0:\n",
    "        return x\n",
    "    \n",
    "    else:\n",
    "        return gcd(y, x % y)\n",
    "    \n",
    "print(gcd(270, 250)) \n",
    "print(gcd(6, 0))  "
   ]
  },
  {
   "cell_type": "markdown",
   "id": "cdcb7e89",
   "metadata": {},
   "source": [
    "# hw2 - Part A -Question 3(hasConsecutiveDigits(n))"
   ]
  },
  {
   "cell_type": "code",
   "execution_count": 5,
   "id": "99ed0371",
   "metadata": {},
   "outputs": [
    {
     "name": "stdout",
     "output_type": "stream",
     "text": [
      "True\n",
      "False\n",
      "True\n"
     ]
    }
   ],
   "source": [
    "# my solution to question 3 below\n",
    "def hasConsecutiveDigits(n):\n",
    "    n=abs(n)\n",
    "    prevDigit=-1\n",
    "    while(n>0):\n",
    "        OnesDigit = n%10\n",
    "        n//=10\n",
    "        if (prevDigit== OnesDigit):\n",
    "            return True\n",
    "        prevDigit= OnesDigit\n",
    "           \n",
    "    return False\n",
    "print(hasConsecutiveDigits(1123))\n",
    "print(hasConsecutiveDigits(1234))\n",
    "print(hasConsecutiveDigits(1300))"
   ]
  },
  {
   "cell_type": "markdown",
   "id": "4c451629",
   "metadata": {},
   "source": [
    "# hw2 - Part A -Question 4(nthAdditivePrime(n))"
   ]
  },
  {
   "cell_type": "code",
   "execution_count": 6,
   "id": "6f84031a",
   "metadata": {},
   "outputs": [
    {
     "name": "stdout",
     "output_type": "stream",
     "text": [
      "1291\n"
     ]
    }
   ],
   "source": [
    "# my solution to question 4 below\n",
    "def is_prime(num):\n",
    "    if num < 2:\n",
    "        return False\n",
    "    for i in range(2, int(num**0.5) + 1):\n",
    "        if num % i == 0:\n",
    "            return False\n",
    "    return True\n",
    "\n",
    "def digit_sum(num):\n",
    "    return sum(int(digit) for digit in str(num))\n",
    "\n",
    "def nthAdditivePrime(n):\n",
    "    count = 0\n",
    "    num = 2\n",
    "    while True:\n",
    "        if is_prime(num) and is_prime(digit_sum(num)):\n",
    "            count += 1\n",
    "            if count == n:\n",
    "                return num\n",
    "        num += 1\n",
    "\n",
    "\n",
    "print(nthAdditivePrime(113))  # This will print the 5th Additive Prime\n"
   ]
  },
  {
   "cell_type": "markdown",
   "id": "b88ad7de",
   "metadata": {},
   "source": [
    "# hw2 - Part A -Question5 (mostFrequentDigit(n)) "
   ]
  },
  {
   "cell_type": "code",
   "execution_count": 7,
   "id": "93f2f3fa",
   "metadata": {},
   "outputs": [
    {
     "name": "stdout",
     "output_type": "stream",
     "text": [
      "1\n"
     ]
    }
   ],
   "source": [
    "# my solution to question 5 below\n",
    "def mostFrequentDigit(n):\n",
    "    if n == 0:\n",
    "        return 0\n",
    "    \n",
    "    digit_freq = {i: 0 for i in range(10)} \n",
    "    n = abs(n)\n",
    "    \n",
    "    # Count frequency of each digit\n",
    "    while n > 0:\n",
    "        digit = n % 10\n",
    "        digit_freq[digit] += 1\n",
    "        n //= 10\n",
    "    \n",
    "    max_freq = max(digit_freq.values())  \n",
    "    most_frequent_digit = min([digit for digit, freq in digit_freq.items() if freq == max_freq])\n",
    "    \n",
    "    return most_frequent_digit\n",
    "print(mostFrequentDigit(11233))"
   ]
  },
  {
   "cell_type": "markdown",
   "id": "b17bf5d7",
   "metadata": {},
   "source": [
    "# hw2 - Part A -Question6(isRotation(x, y) )"
   ]
  },
  {
   "cell_type": "code",
   "execution_count": 8,
   "id": "1d0c2174",
   "metadata": {},
   "outputs": [
    {
     "name": "stdout",
     "output_type": "stream",
     "text": [
      "True\n",
      "True\n",
      "False\n"
     ]
    }
   ],
   "source": [
    "# my solution to question 6 below \n",
    "def isRotation(x, y):\n",
    "   \n",
    "    x_str= str(x)\n",
    "    y_str = str(y)\n",
    "    \n",
    " \n",
    "    if len(x_str) != len(y_str):\n",
    "        return False\n",
    "    \n",
    "    y_str_rotations = y_str + y_str\n",
    "    \n",
    "    if x_str in y_str_rotations:\n",
    "        return True\n",
    "    else:\n",
    "        return False\n",
    "\n",
    "print(isRotation(3412, 1234))  \n",
    "print(isRotation(1234, 3412))  \n",
    "print(isRotation(1234, 5678))  \n"
   ]
  },
  {
   "cell_type": "markdown",
   "id": "98b5ccfe",
   "metadata": {},
   "source": [
    "# hw2 - Part A -Question7(integral(f, a, b, N))\n",
    "\n",
    "\n"
   ]
  },
  {
   "cell_type": "code",
   "execution_count": 9,
   "id": "3030601c",
   "metadata": {},
   "outputs": [
    {
     "name": "stdout",
     "output_type": "stream",
     "text": [
      "Integral of f(x) = x from 0 to 1:  0.5\n",
      "Integral of f(x) = 2x + 3 from 0 to 1: 4.0\n",
      "Integral of f(x) = 2x^2 from 0 to 1: 0.6667000000000001\n"
     ]
    }
   ],
   "source": [
    "# my solution to question 7 below\n",
    "def integral(f, a, b, N):\n",
    " \n",
    "    w = (b - a) / N\n",
    "    integral_sum = 0.5 * (f(a) + f(b))  # Initialize with endpoints\n",
    "\n",
    "    for i in range(1, N):\n",
    "        x_i = a + i * w\n",
    "        integral_sum += f(x_i)\n",
    "\n",
    "    return w * integral_sum\n",
    "\n",
    "\n",
    "def f1(x):\n",
    "    return x\n",
    "\n",
    "def f2(x):\n",
    "    return 2 * x + 3\n",
    "\n",
    "def f3(x):\n",
    "    return 2 * x**2\n",
    "\n",
    "a, b = 0, 1\n",
    "N = 100\n",
    "result1 = integral(f1, a, b, N)\n",
    "result2 = integral(f2, a, b, N)\n",
    "result3 = integral(f3, a, b, N)\n",
    "\n",
    "print(f\"Integral of f(x) = x from {a} to {b}: {result1: }\")\n",
    "print(f\"Integral of f(x) = 2x + 3 from {a} to {b}: {result2:}\")\n",
    "print(f\"Integral of f(x) = 2x^2 from {a} to {b}: {result3:}\")\n"
   ]
  },
  {
   "cell_type": "markdown",
   "id": "cd3efe8a",
   "metadata": {},
   "source": [
    "# hw2 - Part B -Question9 (findZeroWithBisection(f, x0, x1, epsilon))"
   ]
  },
  {
   "cell_type": "code",
   "execution_count": 10,
   "id": "0adeb5c6",
   "metadata": {},
   "outputs": [
    {
     "name": "stdout",
     "output_type": "stream",
     "text": [
      "2.0\n"
     ]
    }
   ],
   "source": [
    "# my solution to question 9 below\n",
    "def findZeroWithBisection(f, x0, x1, epsilon):\n",
    "    \n",
    "    # Check if exactly one of f(x0) and f(x1) is negative\n",
    "    if f(x0) * f(x1) >= 0:\n",
    "        return None\n",
    "    \n",
    "    while abs(x1 - x0) > epsilon:\n",
    "        x_mid = (x0 + x1) / 2\n",
    "        if f(x_mid) == 0:\n",
    "            return x_mid\n",
    "        elif f(x_mid) * f(x0) < 0:\n",
    "            x1 = x_mid\n",
    "        else:\n",
    "            x0 = x_mid\n",
    "    \n",
    "    return (x0 + x1) / 2\n",
    "\n",
    "# Example\n",
    "def f(x):\n",
    "    return x**2 - 4\n",
    "\n",
    "result=findZeroWithBisection(f, 0.5, 2.5, 1e-6)\n",
    "if result is not None:\n",
    "    print(result)\n",
    "else:\n",
    "    print(\"Bisection method cannot be used on the given range.\")\n"
   ]
  },
  {
   "cell_type": "markdown",
   "id": "b59e3f70",
   "metadata": {},
   "source": [
    "# hw2 - Part B -Question10 (carrylessAdd(x, y) )\n"
   ]
  },
  {
   "cell_type": "code",
   "execution_count": 11,
   "id": "749cd7b3",
   "metadata": {},
   "outputs": [
    {
     "name": "stdout",
     "output_type": "stream",
     "text": [
      "5\n",
      "51\n"
     ]
    }
   ],
   "source": [
    "# my solution to question 10 below\n",
    "def carrylessAdd(x, y):\n",
    "    result = 0\n",
    "    multiplier = 1  \n",
    "    \n",
    "    while x > 0 or y > 0:\n",
    "        digit_sum = (x % 10 + y % 10) % 10\n",
    "        result += digit_sum * multiplier\n",
    "        x //= 10\n",
    "        y //= 10\n",
    "        multiplier *= 10\n",
    "\n",
    "    return result\n",
    "\n",
    "print(carrylessAdd(8,7))\n",
    "print(carrylessAdd(785,376))"
   ]
  },
  {
   "cell_type": "markdown",
   "id": "1f1aae17",
   "metadata": {},
   "source": [
    "# hw2 - Part B -Question11(nthSmithNumber(n) )"
   ]
  },
  {
   "cell_type": "code",
   "execution_count": 12,
   "id": "edaf2e9e",
   "metadata": {},
   "outputs": [
    {
     "name": "stdout",
     "output_type": "stream",
     "text": [
      "4\n",
      "85\n"
     ]
    }
   ],
   "source": [
    "# my solution to question 11 below\n",
    "def is_prime(num):\n",
    "    if num < 2:\n",
    "        return False\n",
    "    for i in range(2, int(num**0.5) + 1):\n",
    "        if num % i == 0:\n",
    "            return False\n",
    "    return True\n",
    "\n",
    "def prime_factors(num):\n",
    "    factors = []\n",
    "    divisor = 2\n",
    "    while num > 1:\n",
    "        if num % divisor == 0:\n",
    "            factors.append(divisor)\n",
    "            num //= divisor\n",
    "        else:\n",
    "            divisor += 1\n",
    "    return factors\n",
    "\n",
    "def digit_sum(num):\n",
    "    return sum(int(digit) for digit in str(num))\n",
    "\n",
    "def nthSmithNumber(n):\n",
    "    smith_numbers = []\n",
    "    num = 4  # Starting from 4 because 4 is the first Smith number\n",
    "    while len(smith_numbers) < n:\n",
    "        if not is_prime(num):\n",
    "            prime_factors_sum = sum(digit_sum(factor) for factor in prime_factors(num))\n",
    "            if digit_sum(num) == prime_factors_sum:\n",
    "                smith_numbers.append(num)\n",
    "        num += 1\n",
    "    return smith_numbers[-1]\n",
    "\n",
    "# Test the function\n",
    "print(nthSmithNumber(1))  \n",
    "print(nthSmithNumber(5)) \n",
    "\n"
   ]
  },
  {
   "cell_type": "markdown",
   "id": "cba92688",
   "metadata": {},
   "source": [
    "# hw2 - Part B -Question12(playPig() )"
   ]
  },
  {
   "cell_type": "code",
   "execution_count": null,
   "id": "f53555c0",
   "metadata": {},
   "outputs": [
    {
     "name": "stdout",
     "output_type": "stream",
     "text": [
      "Enter name for Player 1: \n",
      "Enter name for Player 2: mimi\n",
      "\n",
      "'s turn:\n",
      "You rolled a 2.\n",
      "Your current score for this turn is 2.\n",
      "Do you want to roll again? (y/n): y\n",
      "You rolled a 2.\n",
      "Your current score for this turn is 4.\n",
      "Do you want to roll again? (y/n): n\n",
      " decided to hold.\n",
      "'s total score is 4.\n",
      "\n",
      "mimi's turn:\n",
      "You rolled a 6.\n",
      "Your current score for this turn is 6.\n"
     ]
    }
   ],
   "source": [
    "# my solution to question 12 below\n",
    "import random\n",
    "\n",
    "def roll_dice():\n",
    "    return random.randint(1, 6)\n",
    "\n",
    "def play_turn(player):\n",
    "    total_score = 0\n",
    "    print(f\"\\n{player}'s turn:\")\n",
    "    while True:\n",
    "        roll = roll_dice()\n",
    "        print(f\"You rolled a {roll}.\")\n",
    "        if roll == 1:\n",
    "            print(\"You rolled a 1. Turn over!\")\n",
    "            return 0\n",
    "        else:\n",
    "            total_score += roll\n",
    "            print(f\"Your current score for this turn is {total_score}.\")\n",
    "            # y stand for yes and n stand for no\n",
    "            choice = input(\"Do you want to roll again? (y/n): \").lower()\n",
    "            if choice == 'n':\n",
    "                print(f\"{player} decided to hold.\")\n",
    "                return total_score\n",
    "\n",
    "def playPig():\n",
    "    player1 = input(\"Enter name for Player 1: \")\n",
    "    player2 = input(\"Enter name for Player 2: \")\n",
    "\n",
    "    player1_score = 0\n",
    "    player2_score = 0\n",
    "\n",
    "    while player1_score < 100 and player2_score < 100:\n",
    "        player1_score += play_turn(player1)\n",
    "        print(f\"{player1}'s total score is {player1_score}.\")\n",
    "        if player1_score >= 100:\n",
    "            print(f\"{player1} wins!\")\n",
    "            break\n",
    "        player2_score += play_turn(player2)\n",
    "        print(f\"{player2}'s total score is {player2_score}.\")\n",
    "        if player2_score >= 100:\n",
    "            print(f\"{player2} wins!\")\n",
    "            break\n",
    "\n",
    "playPig()\n"
   ]
  },
  {
   "cell_type": "markdown",
   "id": "13371baf",
   "metadata": {},
   "source": [
    "# Quiz 2 - Version A (Free Response 1: countPalNumbers(n) )"
   ]
  },
  {
   "cell_type": "code",
   "execution_count": 5,
   "id": "88dbcff7",
   "metadata": {},
   "outputs": [
    {
     "name": "stdout",
     "output_type": "stream",
     "text": [
      "9\n",
      "13\n"
     ]
    }
   ],
   "source": [
    "# my solution to the question below\n",
    "def is_palindrome(num):\n",
    "    \n",
    "    #Checks if a given integer is a palindrome.\n",
    "    \n",
    "    original_num = num\n",
    "    reversed_num = 0\n",
    "\n",
    "    while num > 0:\n",
    "        digit = num % 10\n",
    "        reversed_num = reversed_num * 10 + digit\n",
    "        num //= 10\n",
    "\n",
    "    return original_num == reversed_num\n",
    "\n",
    "def countPalNumbers(n):\n",
    "    \n",
    "   # Returns the count of palindrome numbers between 1 and n (inclusive).\n",
    "    \n",
    "    count = 0\n",
    "    for num in range(1, n + 1):\n",
    "        if is_palindrome(num):\n",
    "            count += 1\n",
    "\n",
    "    return count\n",
    "\n",
    "print(countPalNumbers(10))  \n",
    "print(countPalNumbers(44)) \n",
    "\n"
   ]
  },
  {
   "cell_type": "markdown",
   "id": "8f9f6c9e",
   "metadata": {},
   "source": [
    "# hw3 - Part A - Question 1(rotateString(s, k))"
   ]
  },
  {
   "cell_type": "code",
   "execution_count": 4,
   "id": "dd28980b",
   "metadata": {},
   "outputs": [
    {
     "name": "stdout",
     "output_type": "stream",
     "text": [
      "bsda\n"
     ]
    }
   ],
   "source": [
    "#my solution to question 1 below\n",
    "def rotateString(s, k):\n",
    "   # Rotates the string s by k places (left if k is non-negative, right if k is negative).\n",
    "    \n",
    "    n = len(s)\n",
    "    k %= n  \n",
    "\n",
    "    if k == 0:\n",
    "        return s  # No rotation needed\n",
    "\n",
    "    if k > 0:\n",
    "        return s[k:] + s[:k]  # Left rotation\n",
    "    else:\n",
    "        return s[n + k:] + s[:n + k]  # Right rotation\n",
    "    \n",
    "print(rotateString('absd',1))\n",
    "\n",
    "# Example usage:\n",
    "assert rotateString('abcd', 1) == 'bcda'\n",
    "assert rotateString('abcd', -1) == 'dabc'\n"
   ]
  },
  {
   "cell_type": "markdown",
   "id": "b5e5edb5",
   "metadata": {},
   "source": [
    "#  hw3 - Part A - Question 2(applyCaesarCipher(message, shift))"
   ]
  },
  {
   "cell_type": "code",
   "execution_count": 2,
   "id": "344801a8",
   "metadata": {},
   "outputs": [
    {
     "name": "stdout",
     "output_type": "stream",
     "text": [
      "Xf Buubdl Bu Ebxo\n"
     ]
    }
   ],
   "source": [
    "# my solution to question 2 below\n",
    "def applyCaesarCipher(message, shift):\n",
    "   \n",
    "    result = []\n",
    "    for char in message:\n",
    "        if char.isalpha():  # Process only letters\n",
    "            base = ord('A') if char.isupper() else ord('a')\n",
    "            shifted_char = chr((ord(char) - base + shift) % 26 + base)\n",
    "            result.append(shifted_char)\n",
    "        else:\n",
    "            result.append(char) \n",
    "    return ''.join(result)\n",
    "print(applyCaesarCipher(\"We Attack At Dawn\",1))\n"
   ]
  },
  {
   "cell_type": "markdown",
   "id": "529a3aaa",
   "metadata": {},
   "source": [
    "# hw3 - Part A - Question 3(largestNumber(text) )"
   ]
  },
  {
   "cell_type": "code",
   "execution_count": 8,
   "id": "3b22715d",
   "metadata": {},
   "outputs": [
    {
     "name": "stdout",
     "output_type": "stream",
     "text": [
      "17\n",
      "None\n"
     ]
    }
   ],
   "source": [
    "# my solution to question 3 below\n",
    "\n",
    "def largestNumber(text):\n",
    "    import re\n",
    "    numbers = re.findall(r'\\d+', text)\n",
    "    if numbers:\n",
    "        return max(map(int, numbers))\n",
    "    else:\n",
    "        return None\n",
    "\n",
    "# Test the function\n",
    "print(largestNumber(\"I saw 3 dogs, 17 cats, and 14 cows!\")) \n",
    "print(  largestNumber(\"One person ate two hot dogs!\"))\n"
   ]
  },
  {
   "cell_type": "markdown",
   "id": "39c6d8be",
   "metadata": {},
   "source": [
    "# hw3 - Part A - Question 4(topScorer(data) )"
   ]
  },
  {
   "cell_type": "code",
   "execution_count": 2,
   "id": "60413e73",
   "metadata": {},
   "outputs": [
    {
     "name": "stdout",
     "output_type": "stream",
     "text": [
      "Fred\n",
      "Wilma\n",
      "Fred,Wilma\n",
      "None\n"
     ]
    }
   ],
   "source": [
    "# my solution to question 4 below\n",
    "\n",
    "def topScorer(data):\n",
    "    if not data:\n",
    "        return None\n",
    "\n",
    "    scores = {}\n",
    "    max_score = 0\n",
    "\n",
    "    lines = data.splitlines()\n",
    "    for line in lines:\n",
    "        player, *player_scores = line.split(',')\n",
    "        total_score = sum(map(int, player_scores))\n",
    "        scores[player] = total_score\n",
    "        max_score = max(max_score, total_score)\n",
    "\n",
    "    top_players = [player for player, score in scores.items() if score == max_score]\n",
    "\n",
    "    if len(top_players) == 1:\n",
    "        return top_players[0]\n",
    "    else:\n",
    "        return ','.join(top_players)\n",
    "\n",
    "# Test cases\n",
    "data1 = '''\\\n",
    "Fred,10,20,30,40\n",
    "Wilma,10,20,30\n",
    "'''\n",
    "print(topScorer(data1))\n",
    "assert(topScorer(data1) == 'Fred')\n",
    "\n",
    "data2 = '''\\\n",
    "Fred,10,20,30\n",
    "Wilma,10,20,30,40\n",
    "'''\n",
    "print(topScorer(data2))\n",
    "assert(topScorer(data2) == 'Wilma')\n",
    "\n",
    "data3 = '''\\\n",
    "Fred,11,20,30\n",
    "Wilma,10,20,30,1\n",
    "'''\n",
    "print(topScorer(data3))\n",
    "assert(topScorer(data3) == 'Fred,Wilma')\n",
    "print(topScorer(''))\n",
    "assert(topScorer('') == None)\n"
   ]
  },
  {
   "cell_type": "markdown",
   "id": "7ee73610",
   "metadata": {},
   "source": [
    "# hw3 - Part B - Question 6(collapseWhitespace(s))"
   ]
  },
  {
   "cell_type": "code",
   "execution_count": 7,
   "id": "cb308c29",
   "metadata": {},
   "outputs": [
    {
     "name": "stdout",
     "output_type": "stream",
     "text": [
      "a b\n",
      "a   b\n",
      "a   b      c \n"
     ]
    }
   ],
   "source": [
    "# my solution to question 6  below\n",
    "\n",
    "def collapseWhitespace(s):\n",
    "    \n",
    "    result = []\n",
    "    prev_char = None\n",
    "\n",
    "    for char in s:\n",
    "        if char.isspace():\n",
    "            # If the current character is whitespace and the previous character was not a space,\n",
    "            # add a single space to the result.\n",
    "            if prev_char != ' ':\n",
    "                result.append(' ')\n",
    "        else:\n",
    "            # If the current character is not whitespace, add it to the result.\n",
    "            result.append(char)\n",
    "\n",
    "        prev_char = char\n",
    "\n",
    "    # Join the characters in the result list to form the final collapsed string.\n",
    "    return ''.join(result)\n",
    "\n",
    "print(collapseWhitespace(\"a\\nb\"))\n",
    "\n",
    "print(collapseWhitespace(\"a\\n   \\t    b\"))\n",
    "\n",
    "print(collapseWhitespace(\"a\\n   \\t    b  \\n\\n  \\t\\t\\t c   \"))\n",
    " "
   ]
  },
  {
   "cell_type": "markdown",
   "id": "b3486578",
   "metadata": {},
   "source": [
    "# hw3 - Part B - Question 7(patternedMessage(message, pattern) )\n",
    "\n",
    "\n",
    "\n",
    "\n",
    "\n",
    "\n",
    "\n",
    "\n",
    "\n",
    "\n",
    "\n",
    "\n",
    "\n"
   ]
  },
  {
   "cell_type": "code",
   "execution_count": 8,
   "id": "c7869756",
   "metadata": {},
   "outputs": [
    {
     "name": "stdout",
     "output_type": "stream",
     "text": [
      "Go Pirates!!!Go\n",
      " Pirat   es!!!G\n",
      "o Pirates!!!Go \n",
      "T     h     r\n",
      "ee    Dia   mon\n",
      "ds!Th ree D iamon\n",
      "ds!   Thr   ee \n",
      "D     i     a\n"
     ]
    }
   ],
   "source": [
    "# my solution to question 7 below\n",
    "def patternedMessage(message, pattern):\n",
    "    \n",
    "    # Remove leading and trailing newlines from the pattern\n",
    "    pattern = pattern.strip('\\n')\n",
    "\n",
    "    # Initialize an empty result string\n",
    "    result = \"\"\n",
    "    msg_index = 0\n",
    "\n",
    "    # Iterate through each character in the pattern\n",
    "    for char in pattern:\n",
    "        if char.isspace():\n",
    "            result += char\n",
    "        else:\n",
    "            # Replace non-whitespace characters with corresponding message characters\n",
    "            if msg_index < len(message):\n",
    "                result += message[msg_index]\n",
    "                msg_index += 1\n",
    "            else:\n",
    "                msg_index = 0\n",
    "                result += message[msg_index]\n",
    "                msg_index += 1\n",
    "\n",
    "    return result\n",
    "\n",
    "# Test cases\n",
    "print(patternedMessage(\"Go Pirates!!!\", \"\"\"\n",
    "***************\n",
    "******   ******\n",
    "***************\n",
    "\"\"\"))\n",
    "\n",
    "print(patternedMessage(\"Three Diamonds!\", \"\"\"\n",
    "*     *     *\n",
    "***   ***   ***\n",
    "***** ***** *****\n",
    "***   ***   ***\n",
    "*     *     *\n",
    "\"\"\"))\n"
   ]
  },
  {
   "cell_type": "markdown",
   "id": "687006a0",
   "metadata": {},
   "source": [
    "# hw3 - Part B - Question 8(encodeRightLeftRouteCipher(message,rows))"
   ]
  },
  {
   "cell_type": "code",
   "execution_count": 18,
   "id": "7fbdfc5f",
   "metadata": {},
   "outputs": [
    {
     "name": "stdout",
     "output_type": "stream",
     "text": [
      "4WTAWNTAEACDzzAKT\n",
      "3WTCTWNDKTEAAAAz\n",
      "5WADACEAKWNATTTz\n"
     ]
    }
   ],
   "source": [
    "# my solution to question 8 below\n",
    "import math\n",
    "\n",
    "def encodeRightLeftRouteCipher(message, rows):\n",
    "    # Pad the string\n",
    "    padded_length = math.ceil(len(message) / rows) * rows\n",
    "    padded_message = message.ljust(padded_length, 'z')\n",
    "    \n",
    "    # Initialize the encoded message\n",
    "    encoded_message = str(rows)\n",
    "    \n",
    "    # Traverse the 2D grid top-to-bottom, left-to-right\n",
    "    for row in range(rows):\n",
    "        # If row is odd, reverse the order\n",
    "        if row % 2 == 1:\n",
    "            encoded_message += padded_message[row::rows][::-1]\n",
    "        else:\n",
    "            encoded_message += padded_message[row::rows]\n",
    "    \n",
    "    return encoded_message\n",
    "print(encodeRightLeftRouteCipher(\"WEATTACKATDAWN\", 4))\n",
    "print(encodeRightLeftRouteCipher(\"WEATTACKATDAWN\", 3))\n",
    "print(encodeRightLeftRouteCipher(\"WEATTACKATDAWN\", 5) )\n"
   ]
  },
  {
   "cell_type": "markdown",
   "id": "d65ff460",
   "metadata": {},
   "source": [
    "#  hw3 - Part B - Question 9(decodeRightLeftRouteCipher(message) )"
   ]
  },
  {
   "cell_type": "code",
   "execution_count": 34,
   "id": "7cbe5a6c",
   "metadata": {},
   "outputs": [
    {
     "name": "stdout",
     "output_type": "stream",
     "text": [
      "WNAyEATNAADKTKAy\n"
     ]
    }
   ],
   "source": [
    "def decodeRightLeftRouteCipher(encoded_message):\n",
    "   \n",
    "    num_rows = int(encoded_message[0])\n",
    "    encoded_message = encoded_message[1:]\n",
    "\n",
    "    # Determine dimensions of conceptual 2D grid\n",
    "    num_cols = -(-len(encoded_message) // num_rows)  \n",
    "   \n",
    "    decoded_message = ''\n",
    "\n",
    "  \n",
    "    for row in range(num_rows):\n",
    "        if row % 2 == 0:\n",
    "            # Left-to-right\n",
    "            decoded_message += ''.join(encoded_message[row + col * num_rows] for col in range(num_cols))\n",
    "        else:\n",
    "            # Right-to-left\n",
    "            decoded_message += ''.join(encoded_message[(row + 1) * num_rows - col - 1] for col in range(num_cols))\n",
    "\n",
    "    return decoded_message\n",
    "\n",
    "print(decodeRightLeftRouteCipher(\"4WTAWNTAEACDzyAKT\"))\n"
   ]
  },
  {
   "cell_type": "markdown",
   "id": "50bdd12d",
   "metadata": {},
   "source": [
    "# Quiz 3 - Short Answer 1: reverseStr(s) "
   ]
  },
  {
   "cell_type": "code",
   "execution_count": 40,
   "id": "44a98901",
   "metadata": {},
   "outputs": [
    {
     "name": "stdout",
     "output_type": "stream",
     "text": [
      "321dcba\n",
      "kn0H\n"
     ]
    }
   ],
   "source": [
    "# my solution to short answer 1 below\n",
    "\n",
    "def reverseStr(str):\n",
    "    \n",
    "    return str[::-1]\n",
    "\n",
    "print(reverseStr(\"abcd123\"))\n",
    "print(reverseStr(\"H0nk\"))\n",
    "assert reverseStr('abcd123') == '321dcba'\n",
    "assert reverseStr(reverseStr('H0nk')) == reverseStr('kn0H')\n",
    "\n"
   ]
  },
  {
   "cell_type": "markdown",
   "id": "9fc8d907",
   "metadata": {},
   "source": [
    "# Quiz 3 - Short Answer 2: isPalindrome(i) "
   ]
  },
  {
   "cell_type": "code",
   "execution_count": 48,
   "id": "fde1d899",
   "metadata": {},
   "outputs": [
    {
     "name": "stdout",
     "output_type": "stream",
     "text": [
      "True\n",
      "True\n",
      "True\n",
      "True\n",
      "False\n",
      "False\n"
     ]
    }
   ],
   "source": [
    "# my solution to short answer 2 below\n",
    "def isPalindrome(i):\n",
    "    i_str = str(i)\n",
    "    \n",
    "    reversed_str = i_str[::-1]\n",
    "    # Check if the original and reversed strings are the same\n",
    "    if (i_str == reversed_str):\n",
    "        return True\n",
    "    else:\n",
    "        return  False   \n",
    "print(isPalindrome(12321))\n",
    "print(isPalindrome(12321))\n",
    "print(isPalindrome(29892))\n",
    "print(isPalindrome(1))\n",
    "print(isPalindrome(12345))\n",
    "print(isPalindrome(1010))\n"
   ]
  },
  {
   "cell_type": "markdown",
   "id": "84b6bb9e",
   "metadata": {},
   "source": [
    "#  hw4 - Part A - Question 1(alternatingSum(a))"
   ]
  },
  {
   "cell_type": "code",
   "execution_count": 60,
   "id": "9da7bc14",
   "metadata": {},
   "outputs": [
    {
     "name": "stdout",
     "output_type": "stream",
     "text": [
      "6\n",
      "3\n",
      "0\n"
     ]
    }
   ],
   "source": [
    "# my solution to question 1 below\n",
    "def alternatingSum(a):\n",
    "   \n",
    "    if not a:\n",
    "        return 0\n",
    "\n",
    "    result = a[0]\n",
    "    for i in range(1, len(a)):\n",
    "        if i % 2 == 1:\n",
    "            result -= a[i]\n",
    "        else:\n",
    "            result += a[i]\n",
    "\n",
    "    return result\n",
    "\n",
    "# Test cases\n",
    "print(alternatingSum([5, 3, 8, 4]))  # Output: 6\n",
    "print(alternatingSum([1, 2, 3, 4, 5]))  # Output: 3\n",
    "print(alternatingSum([]))  # Output: 0\n",
    "    "
   ]
  },
  {
   "cell_type": "markdown",
   "id": "bd44456e",
   "metadata": {},
   "source": [
    "# hw4 - PartA-Ouestion 2(median(a))"
   ]
  },
  {
   "cell_type": "code",
   "execution_count": 52,
   "id": "27544887",
   "metadata": {},
   "outputs": [
    {
     "name": "stdout",
     "output_type": "stream",
     "text": [
      "3\n",
      "2.5\n",
      "4\n",
      "None\n"
     ]
    }
   ],
   "source": [
    "# my solution to question 2 below\n",
    "def median(a):\n",
    "    if not a:\n",
    "        return None\n",
    "    \n",
    "    sorted_a = sorted(a)\n",
    "    n = len(sorted_a)\n",
    "    mid = n // 2\n",
    "    \n",
    "    if n % 2 == 0:\n",
    "        # If the list has an even number of elements\n",
    "        return (sorted_a[mid - 1] + sorted_a[mid]) / 2\n",
    "    else:\n",
    "        # If the list has an odd number of elements\n",
    "        return sorted_a[mid]\n",
    "\n",
    "# Test cases\n",
    "print( median([1, 2, 3, 4, 5]) )\n",
    "print(median([1, 2, 3, 4]) )\n",
    "print( median([3, 1, 4, 1, 5, 9, 2, 6, 5, 3, 5])) \n",
    "print( median([])) \n"
   ]
  },
  {
   "cell_type": "markdown",
   "id": "a59a971a",
   "metadata": {},
   "source": [
    "# hw4 - PartA-Ouestion 3(smallestDifference(a))"
   ]
  },
  {
   "cell_type": "code",
   "execution_count": 54,
   "id": "5ef8314b",
   "metadata": {},
   "outputs": [
    {
     "name": "stdout",
     "output_type": "stream",
     "text": [
      "4\n",
      "1\n"
     ]
    }
   ],
   "source": [
    "# my solution to question 3 below\n",
    "def smallestDifference(a):\n",
    "   \n",
    "    if not a:\n",
    "        return -1\n",
    "\n",
    "    sorted_a = sorted(a)\n",
    "\n",
    "    # Initialize with a large value\n",
    "    min_diff = float('inf')\n",
    "\n",
    "    # Compare adjacent elements\n",
    "    for i in range(len(sorted_a) - 1):\n",
    "        diff = abs(sorted_a[i] - sorted_a[i + 1])\n",
    "        min_diff = min(min_diff, diff)\n",
    "\n",
    "    return min_diff\n",
    "\n",
    "# Test case\n",
    "print( smallestDifference([19, 2, 83, 6, 27]))\n",
    "print( smallestDifference([19, 2, 83, 6, 27,56,76,87,32,18])) \n",
    "assert smallestDifference([19, 2, 83, 6, 27]) == 4\n"
   ]
  },
  {
   "cell_type": "markdown",
   "id": "329f3c9b",
   "metadata": {},
   "source": [
    "# hw4 - PartA-Ouestion 4(nondestructiveRemoveRepeats(L))"
   ]
  },
  {
   "cell_type": "code",
   "execution_count": 58,
   "id": "ab33ab28",
   "metadata": {},
   "outputs": [
    {
     "name": "stdout",
     "output_type": "stream",
     "text": [
      "[1, 3, 5, 2, 7]\n"
     ]
    }
   ],
   "source": [
    "# my solution to question 4 below\n",
    "def nondestructiveRemoveRepeats(L):\n",
    "  \n",
    "    unique_elements = set()\n",
    "    # Create a new list to store non-repeating elements\n",
    "    result = []\n",
    "    \n",
    "    for item in L:\n",
    "        # Check if the element is not in the set of unique elements\n",
    "        if item not in unique_elements:\n",
    "            unique_elements.add(item)\n",
    "            result.append(item)\n",
    "    \n",
    "    return result\n",
    "\n",
    "# Test case\n",
    "print(nondestructiveRemoveRepeats([1, 3, 5, 3, 3, 2, 1, 7, 5])) # [1, 3, 5, 2, 7]\n",
    "\n",
    "L = [1, 3, 5, 3, 3, 2, 1, 7, 5]\n",
    "assert nondestructiveRemoveRepeats(L) == [1, 3, 5, 2, 7]\n",
    "assert L == [1, 3, 5, 3, 3, 2, 1, 7, 5] "
   ]
  },
  {
   "cell_type": "markdown",
   "id": "47b87338",
   "metadata": {},
   "source": [
    "#  hw4 - PartA-Ouestion 5(destructiveRemoveRepeats(L))"
   ]
  },
  {
   "cell_type": "code",
   "execution_count": 59,
   "id": "068027b5",
   "metadata": {},
   "outputs": [],
   "source": [
    "# my solution to question 5 below\n",
    "def destructiveRemoveRepeats(L):\n",
    "    # Create a set to keep track of elements seen so far\n",
    "    seen = set()\n",
    "   \n",
    "    i = 0\n",
    "    \n",
    "   \n",
    "    while i < len(L):\n",
    "        # If the current element is already in the set, remove it from the list\n",
    "        if L[i] in seen:\n",
    "            del L[i]\n",
    "        else:\n",
    "            # If it's not in the set, add it to the set and move to the next element\n",
    "            seen.add(L[i])\n",
    "            i += 1\n",
    "\n",
    "# Test case\n",
    "L = [1, 3, 5, 3, 3, 2, 1, 7, 5]\n",
    "destructiveRemoveRepeats(L)\n",
    "assert L == [1, 3, 5, 2, 7]  # destructively\n"
   ]
  },
  {
   "cell_type": "markdown",
   "id": "8b247463",
   "metadata": {},
   "source": [
    "# hw4 - PartB-Ouestion 7(isSorted(a))"
   ]
  },
  {
   "cell_type": "code",
   "execution_count": 63,
   "id": "7f66ecfe",
   "metadata": {},
   "outputs": [
    {
     "name": "stdout",
     "output_type": "stream",
     "text": [
      "True\n",
      "True\n",
      "False\n",
      "False\n"
     ]
    }
   ],
   "source": [
    "# my solution to question 7 below\n",
    "def isSorted(a):\n",
    "    n = len(a)\n",
    "    if n <= 1:\n",
    "        return True\n",
    "\n",
    "    increasing = True\n",
    "    decreasing = True\n",
    "\n",
    "    for i in range(1, n):\n",
    "        if a[i] > a[i - 1]:\n",
    "            decreasing = False\n",
    "        elif a[i] < a[i - 1]:\n",
    "            increasing = False\n",
    "\n",
    "    return increasing or decreasing\n",
    "\n",
    "# Test cases\n",
    "print(isSorted([1, 2, 3, 4, 5]))\n",
    "print(isSorted([5, 4, 3, 2, 1])) \n",
    "print(isSorted([1, 3, 2, 4, 5]))\n",
    "print(isSorted([5, 4, 3, 5, 6]))\n",
    "\n"
   ]
  },
  {
   "cell_type": "markdown",
   "id": "be679ed5",
   "metadata": {},
   "source": [
    "# hw4-PartB-Question 8(lookAndSay(a))"
   ]
  },
  {
   "cell_type": "code",
   "execution_count": 64,
   "id": "1dd26254",
   "metadata": {},
   "outputs": [
    {
     "name": "stdout",
     "output_type": "stream",
     "text": [
      "[]\n",
      "[(3, 1)]\n",
      "[(1, -1), (1, 2), (1, 7)]\n",
      "[(2, 3), (1, 8), (3, -10)]\n",
      "[(2, 3), (1, 8), (4, 3)]\n"
     ]
    }
   ],
   "source": [
    "#  my solution to question 8 below\n",
    "def lookAndSay(a):\n",
    "    if not a:\n",
    "        return []\n",
    "\n",
    "    result = []\n",
    "    count = 1\n",
    "    prev = a[0]\n",
    "\n",
    "    for i in range(1, len(a)):\n",
    "        if a[i] == prev:\n",
    "            count += 1\n",
    "        else:\n",
    "            result.append((count, prev))\n",
    "            prev = a[i]\n",
    "            count = 1\n",
    "\n",
    "    # Add the count and value of the last group\n",
    "    result.append((count, prev))\n",
    "\n",
    "    return result\n",
    "\n",
    "# Test cases\n",
    "print(lookAndSay([]) )\n",
    "print(lookAndSay([1,1,1]) )\n",
    "print(lookAndSay([-1,2,7]) )\n",
    "print( lookAndSay([3,3,8,-10,-10,-10]))\n",
    "print(lookAndSay([3,3,8,3,3,3,3]))\n",
    "\n",
    "assert lookAndSay([]) == []\n",
    "assert lookAndSay([1,1,1]) == [(3,1)]\n",
    "assert lookAndSay([-1,2,7]) == [(1,-1),(1,2),(1,7)]\n",
    "assert lookAndSay([3,3,8,-10,-10,-10]) == [(2,3),(1,8),(3,-10)]\n",
    "assert lookAndSay([3,3,8,3,3,3,3]) == [(2,3),(1,8),(4,3)]\n"
   ]
  },
  {
   "cell_type": "markdown",
   "id": "eb0acefb",
   "metadata": {},
   "source": [
    "#  hw4-PartB-Question 9(inverseLookAndSay(a))"
   ]
  },
  {
   "cell_type": "code",
   "execution_count": 67,
   "id": "1ca8a0a3",
   "metadata": {},
   "outputs": [
    {
     "name": "stdout",
     "output_type": "stream",
     "text": [
      "[3, 3, 8, -10, -10, -10]\n"
     ]
    }
   ],
   "source": [
    "# my solution to queation 9 below\n",
    "def inverseLookAndSay(a):\n",
    "    result = []\n",
    "\n",
    "    for count, value in a:\n",
    "        result.extend([value] * count)\n",
    "\n",
    "    return result\n",
    "\n",
    "# Test case\n",
    "print(inverseLookAndSay([(2,3),(1,8),(3,-10)]) )\n"
   ]
  },
  {
   "cell_type": "markdown",
   "id": "5c05ef81",
   "metadata": {},
   "source": [
    "# hw4-PartB-Question 10(multiplyPolynomials(p1, p2) )"
   ]
  },
  {
   "cell_type": "code",
   "execution_count": 69,
   "id": "674f975a",
   "metadata": {},
   "outputs": [
    {
     "name": "stdout",
     "output_type": "stream",
     "text": [
      "[8, 10, 12, 15]\n"
     ]
    }
   ],
   "source": [
    "#my solution to question 10 below\n",
    "def multiplyPolynomials(p1, p2):\n",
    "    \n",
    "    m, n = len(p1), len(p2)\n",
    "    result = [0] * (m + n - 1) \n",
    "    for i in range(m):\n",
    "        for j in range(n):\n",
    "            result[i + j] += p1[i] * p2[j]\n",
    "\n",
    "    return result\n",
    "\n",
    "# Example usage:\n",
    "p1 = [2, 0, 3]  # Represents 2x^2 + 3\n",
    "p2 = [4, 5]     # Represents 4x + 5\n",
    "\n",
    "print(multiplyPolynomials(p1, p2)) # Output: [8, 10, 12, 15]\n"
   ]
  },
  {
   "cell_type": "markdown",
   "id": "b0a3bc6e",
   "metadata": {},
   "source": [
    "#  hw4-PartB-Question 11(bestScrabbleScore(dictionary, letterScores,hand)"
   ]
  },
  {
   "cell_type": "code",
   "execution_count": 71,
   "id": "f7e49f5d",
   "metadata": {},
   "outputs": [
    {
     "name": "stdout",
     "output_type": "stream",
     "text": [
      "(['cat', 'car'], 5)\n"
     ]
    }
   ],
   "source": [
    "#my solution to question 11 below\n",
    "def can_form_word(word, hand):\n",
    "    hand_freq = {}\n",
    "    for letter in hand:\n",
    "        hand_freq[letter] = hand_freq.get(letter, 0) + 1\n",
    "    \n",
    "    for letter in word:\n",
    "        if letter not in hand_freq or hand_freq[letter] == 0:\n",
    "            return False\n",
    "        hand_freq[letter] -= 1\n",
    "    \n",
    "    return True\n",
    "\n",
    "def calculate_score(word, letterScores):\n",
    "    score = 0\n",
    "    for letter in word:\n",
    "        score += letterScores[ord(letter) - ord('a')]\n",
    "    return score\n",
    "\n",
    "def bestScrabbleScore(dictionary, letterScores, hand):\n",
    "    max_score = 0\n",
    "    best_words = []\n",
    "    \n",
    "    for word in dictionary:\n",
    "        if can_form_word(word, hand):\n",
    "            score = calculate_score(word, letterScores)\n",
    "            if score > max_score:\n",
    "                max_score = score\n",
    "                best_words = [word]\n",
    "            elif score == max_score:\n",
    "                best_words.append(word)\n",
    "    \n",
    "    if best_words:\n",
    "        if len(best_words) == 1:\n",
    "            return (best_words[0], max_score)\n",
    "        else:\n",
    "            return (best_words, max_score)\n",
    "    else:\n",
    "        return None\n",
    "\n",
    "# Example usage:\n",
    "dictionary = [\"cat\", \"bat\", \"rat\", \"art\", \"car\"]\n",
    "letterScores = [1, 3, 3, 2, 1, 4, 2, 4, 1, 8, 5, 1, 3, 1, 1, 3, 10, 1, 1, 1, 1, 4, 4, 8, 4, 10]\n",
    "hand = [\"a\", \"r\", \"t\", \"c\", \"e\"]\n",
    "print(bestScrabbleScore(dictionary, letterScores, hand))  # Output: (['rat', 'art', 'car'], 5)\n"
   ]
  },
  {
   "cell_type": "markdown",
   "id": "94b0558e",
   "metadata": {},
   "source": [
    "# - Quiz 4 - Free Response 1: nondestructiveOddsBeforeEvens "
   ]
  },
  {
   "cell_type": "code",
   "execution_count": 72,
   "id": "da665677",
   "metadata": {},
   "outputs": [
    {
     "name": "stdout",
     "output_type": "stream",
     "text": [
      "Result: [1, 3, 5, 2, 4]\n",
      "Original list: [1, 2, 3, 4, 5]\n"
     ]
    }
   ],
   "source": [
    "# my solution to question 1 below\n",
    "def nondestructiveOddsBeforeEvens(L):\n",
    "   \n",
    "    odds = []\n",
    "    evens = []\n",
    "\n",
    "    for num in L:\n",
    "        if num % 2 == 1:  # Odd number\n",
    "            odds.append(num)\n",
    "        else:  # Even number\n",
    "            evens.append(num)\n",
    "\n",
    "    return odds + evens\n",
    "\n",
    "# Example usage:\n",
    "original_list = [1, 2, 3, 4, 5]\n",
    "result = nondestructiveOddsBeforeEvens(original_list)\n",
    "\n",
    "print(\"Result:\", result)  # Output: [1, 3, 5, 2, 4]\n",
    "print(\"Original list:\", original_list)  # Output: [1, 2, 3, 4, 5]\n"
   ]
  },
  {
   "cell_type": "markdown",
   "id": "caad00b5",
   "metadata": {},
   "source": [
    "# Quiz4- Free Response 2: destructiveOddsBeforeEvens"
   ]
  },
  {
   "cell_type": "code",
   "execution_count": 84,
   "id": "c4e8da88",
   "metadata": {},
   "outputs": [
    {
     "name": "stdout",
     "output_type": "stream",
     "text": [
      "None\n"
     ]
    }
   ],
   "source": [
    "# my solution to question 2 below\n",
    "def destructiveOddsBeforeEvens(L):\n",
    "    \n",
    "   \n",
    "    odds = []\n",
    "    evens = []\n",
    "\n",
    "    # Separate odd and even numbers\n",
    "    for num in L:\n",
    "        if num % 2 == 1:  # Odd number\n",
    "            odds.append(num)\n",
    "        else:  # Even number\n",
    "            evens.append(num)\n",
    "\n",
    "    # Combine odds and evens back into the original list\n",
    "    L.clear()  # Clear the original list\n",
    "    L.extend(odds + evens)  # Append odds followed by evens\n",
    "\n",
    "L = [1, 2, 3, 4, 5]\n",
    "print(destructiveOddsBeforeEvens(L))\n",
    "assert L == [1, 3, 5, 2, 4]  # Check if L is modified correctly\n"
   ]
  },
  {
   "cell_type": "markdown",
   "id": "1ba8bda7",
   "metadata": {},
   "source": [
    "# hw5-Part A -Question 1(removeRowAndCol (non-destructive and destructive))"
   ]
  },
  {
   "cell_type": "code",
   "execution_count": 92,
   "id": "5caf052c",
   "metadata": {},
   "outputs": [
    {
     "name": "stdout",
     "output_type": "stream",
     "text": [
      "[[2, 3, 5], [0, 1, 3]]\n",
      "None\n"
     ]
    }
   ],
   "source": [
    "#  my solution to question 1 below\n",
    "\n",
    "def nondestructiveRemoveRowAndCol(L, row, col):\n",
    "    # Create a new list without modifying the original\n",
    "    result = []\n",
    "    for i in range(len(L)):\n",
    "        if i != row:\n",
    "            result.append(L[i][:col] + L[i][col+1:])\n",
    "    return result\n",
    "\n",
    "def destructiveRemoveRowAndCol(L, row, col):\n",
    "    # Modify the original list without creating a new one\n",
    "    for i in range(len(L)):\n",
    "        del L[i][col]\n",
    "    del L[row]\n",
    "    return None\n",
    "\n",
    "# Example usage:\n",
    "L = [\n",
    "    [2, 3, 4, 5],\n",
    "    [8, 7, 6, 5],\n",
    "    [0, 1, 2, 3]\n",
    "]\n",
    "\n",
    "# Non-destructive version\n",
    "print( nondestructiveRemoveRowAndCol(L, 1, 2))\n",
    "assert(L== [\n",
    "    [2, 3, 4, 5],\n",
    "    [8, 7, 6, 5],\n",
    "    [0, 1, 2, 3]\n",
    "])\n",
    "\n",
    "# Destructive version\n",
    "\n",
    "print(destructiveRemoveRowAndCol(L, 1, 2))\n",
    "assert (L==[\n",
    "    [2,3,5],\n",
    "    [0,1,3]\n",
    "])\n"
   ]
  },
  {
   "cell_type": "markdown",
   "id": "5591a5a7",
   "metadata": {},
   "source": [
    "# hw5-Part A -Question 2(matrixMultiply(m1, m2))\n",
    "\n",
    "\n",
    "\n",
    "\n",
    "\n",
    "\n"
   ]
  },
  {
   "cell_type": "code",
   "execution_count": 94,
   "id": "19247a0b",
   "metadata": {},
   "outputs": [
    {
     "name": "stdout",
     "output_type": "stream",
     "text": [
      "[[19, 22], [43, 50]]\n"
     ]
    }
   ],
   "source": [
    "# my solution to question 2 below\n",
    "def matrixMultiply(m1, m2):\n",
    "    \n",
    "       # m1 (list[list]): First matrix (2D list).\n",
    "       # m2 (list[list]): Second matrix (2D list).\n",
    "\n",
    "    rows_m1, cols_m1 = len(m1), len(m1[0])\n",
    "    rows_m2, cols_m2 = len(m2), len(m2[0])\n",
    "\n",
    "    # Check if dimensions are compatible for multiplication\n",
    "    if cols_m1 != rows_m2:\n",
    "        return None\n",
    "\n",
    "    # Initialize the result matrix with zeros\n",
    "    result = [[0] * cols_m2 for _ in range(rows_m1)]\n",
    "\n",
    "    # Perform matrix multiplication\n",
    "    for i in range(rows_m1):\n",
    "        for j in range(cols_m2):\n",
    "            for k in range(cols_m1):\n",
    "                result[i][j] += m1[i][k] * m2[k][j]\n",
    "\n",
    "    return result\n",
    "\n",
    "# Example usage:\n",
    "matrix1 = [[1, 2], [3, 4]]\n",
    "matrix2 = [[5, 6], [7, 8]]\n",
    "print(matrixMultiply(matrix1, matrix2)) # Output: [[19, 22], [43, 50]]\n"
   ]
  },
  {
   "cell_type": "markdown",
   "id": "375c22c4",
   "metadata": {},
   "source": [
    "# hw5-Part A -Question 3(isKingsTour(board)) "
   ]
  },
  {
   "cell_type": "code",
   "execution_count": 102,
   "id": "9f516d58",
   "metadata": {},
   "outputs": [
    {
     "name": "stdout",
     "output_type": "stream",
     "text": [
      "False\n",
      "False\n",
      "False\n",
      "False\n"
     ]
    }
   ],
   "source": [
    "# my solution to question 3 below\n",
    "def isKingsTour(board):\n",
    "    n = len(board)\n",
    "    visited = set()\n",
    "    \n",
    "    # Check if every square is visited exactly once and is within range\n",
    "    for row in board:\n",
    "        for square in row:\n",
    "            if square == 0 or square > n * n or square in visited:\n",
    "                return False\n",
    "            visited.add(square)\n",
    "    \n",
    "    # Check if each move from one square to the next is legal\n",
    "    for i in range(n):\n",
    "        for j in range(n):\n",
    "            current_square = board[i][j]\n",
    "            if (i > 0 and abs(board[i-1][j] - current_square) != 1) \\\n",
    "                    or (i < n-1 and abs(board[i+1][j] - current_square) != 1) \\\n",
    "                    or (j > 0 and abs(board[i][j-1] - current_square) != 1) \\\n",
    "                    or (j < n-1 and abs(board[i][j+1] - current_square) != 1):\n",
    "                return False\n",
    "    \n",
    "    return True\n",
    "\n",
    "# Test cases\n",
    "print(isKingsTour([[3, 2, 1], [6, 4, 9], [5, 7, 8]]))  # True\n",
    "print(isKingsTour([[1, 2, 3], [7, 4, 8], [6, 5, 9]]))  # False\n",
    "print(isKingsTour([[3, 2, 1], [6, 4, 0], [5, 7, 8]]))  # False\n",
    "print(isKingsTour([[1, 14, 15, 16], [13, 2, 7, 6], [12, 8, 3, 5], [11, 10, 9, 4]]))  # True\n"
   ]
  },
  {
   "cell_type": "markdown",
   "id": "b6f09185",
   "metadata": {},
   "source": [
    "# hw5-Part B -Question6(isMagicSquare(L))"
   ]
  },
  {
   "cell_type": "code",
   "execution_count": 106,
   "id": "5a767846",
   "metadata": {},
   "outputs": [
    {
     "name": "stdout",
     "output_type": "stream",
     "text": [
      "True\n"
     ]
    }
   ],
   "source": [
    "# my solution to question 6 below\n",
    "def isMagicSquare(L):\n",
    "    # Check if L is 2d, non-empty, and square\n",
    "    if not L or not all(isinstance(row, list) for row in L) or not all(len(row) == len(L) for row in L):\n",
    "        return False\n",
    "    \n",
    "    n = len(L)\n",
    "    \n",
    "    # Check if all elements are unique integers\n",
    "    elements = set()\n",
    "    for row in L:\n",
    "        for num in row:\n",
    "            if not isinstance(num, int) or num in elements:\n",
    "                return False\n",
    "            elements.add(num)\n",
    "    \n",
    "    # Calculate the expected sum\n",
    "    expected_sum = n * (n**2 + 1) // 2\n",
    "    \n",
    "    # Check row sums\n",
    "    for row in L:\n",
    "        if sum(row) != expected_sum:\n",
    "            return False\n",
    "    \n",
    "    # Check column sums\n",
    "    for j in range(n):\n",
    "        if sum(row[j] for row in L) != expected_sum:\n",
    "            return False\n",
    "    \n",
    "    # Check diagonal sums\n",
    "    diagonal_sum1 = sum(L[i][i] for i in range(n))\n",
    "    diagonal_sum2 = sum(L[i][n - i - 1] for i in range(n))\n",
    "    if diagonal_sum1 != expected_sum or diagonal_sum2 != expected_sum:\n",
    "        return False\n",
    "    \n",
    "    return True\n",
    "\n",
    "# Example usage:\n",
    "square = [\n",
    "    [2, 7, 6],\n",
    "    [9, 5, 1],\n",
    "    [4, 3, 8]\n",
    "]\n",
    "\n",
    "print(isMagicSquare(square))  # Output: True\n"
   ]
  },
  {
   "cell_type": "markdown",
   "id": "73b8916a",
   "metadata": {},
   "source": [
    "# hw5-Part B -Question7(wordSearchWithIntegerWildCards(board, word))"
   ]
  },
  {
   "cell_type": "code",
   "execution_count": 9,
   "id": "309a669c",
   "metadata": {},
   "outputs": [
    {
     "name": "stdout",
     "output_type": "stream",
     "text": [
      "True\n"
     ]
    }
   ],
   "source": [
    "# my solution to question 7 below\n",
    "def search_word(board, word, row, col, index):\n",
    "    # Base case: If we've matched the entire word, return True\n",
    "    if index == len(word):\n",
    "        return True\n",
    "\n",
    "    # Check if the current position is out of bounds or doesn't match the word\n",
    "    if row < 0 or row >= len(board) or col < 0 or col >= len(board[0]) or board[row][col] != word[index]:\n",
    "        return False\n",
    "\n",
    "    # Save the current character and mark it as visited\n",
    "    temp = board[row][col]\n",
    "    board[row][col] = None\n",
    "\n",
    "    # Recurse in all four directions (up, down, left, right)\n",
    "    found = (search_word(board, word, row - 1, col, index + 1) or\n",
    "             search_word(board, word, row + 1, col, index + 1) or\n",
    "             search_word(board, word, row, col - 1, index + 1) or\n",
    "             search_word(board, word, row, col + 1, index + 1))\n",
    "\n",
    "    # Restore the original character\n",
    "    board[row][col] = temp\n",
    "    return found\n",
    "\n",
    "def wordSearchWithIntegerWildCards(board, word):\n",
    "    for row in range(len(board)):\n",
    "        for col in range(len(board[0])):\n",
    "            if board[row][col] == word[0]:\n",
    "                if search_word(board, word, row, col, 0):\n",
    "                    return True\n",
    "    return False\n",
    "# Example usage:\n",
    "board = [['p', 'i', 'g'],\n",
    "         ['s', 2, 'c']]\n",
    "word = \"cow\"\n",
    "print(wordSearchWithIntegerWildCards(board, \"p\")) \n",
    "\n"
   ]
  },
  {
   "cell_type": "markdown",
   "id": "a66108d6",
   "metadata": {},
   "source": [
    "# hw5-Part B -Question8(isLegalSudoku(board))"
   ]
  },
  {
   "cell_type": "code",
   "execution_count": 14,
   "id": "9aed5528",
   "metadata": {},
   "outputs": [
    {
     "name": "stdout",
     "output_type": "stream",
     "text": [
      "True\n"
     ]
    }
   ],
   "source": [
    "# my solution to question 8 below\n",
    "def areLegalValues(values):\n",
    "    n = len(values)\n",
    "    if n == 0:\n",
    "        return False\n",
    "    max_value = n\n",
    "    count = [0] * (max_value + 1)\n",
    "    for value in values:\n",
    "        if not (0 <= value <= max_value):\n",
    "            return False\n",
    "        count[value] += 1\n",
    "        if count[value] > 1 and value != 0:\n",
    "            return False\n",
    "    return True\n",
    "\n",
    "def isLegalRow(board, row):\n",
    "    n = len(board)\n",
    "    return areLegalValues(board[row])\n",
    "\n",
    "def isLegalCol(board, col):\n",
    "    n = len(board)\n",
    "    col_values = [board[i][col] for i in range(n)]\n",
    "    return areLegalValues(col_values)\n",
    "\n",
    "def isLegalBlock(board, block):\n",
    "    n = len(board)\n",
    "    N = int(n ** 0.5)\n",
    "    block_row = block // N\n",
    "    block_col = block % N\n",
    "    block_values = []\n",
    "    for i in range(block_row * N, (block_row + 1) * N):\n",
    "        for j in range(block_col * N, (block_col + 1) * N):\n",
    "            block_values.append(board[i][j])\n",
    "    return areLegalValues(block_values)\n",
    "\n",
    "def isLegalSudoku(board):\n",
    "    n = len(board)\n",
    "    N = int(n ** 0.5)\n",
    "    for i in range(n):\n",
    "        if not isLegalRow(board, i) or not isLegalCol(board, i) or not isLegalBlock(board, i):\n",
    "            return False\n",
    "    return True\n",
    "\n",
    "# Example usage:\n",
    "sudoku_board = [\n",
    "    [5, 3, 0, 0, 7, 0, 0, 0, 0],\n",
    "    [6, 0, 0, 1, 9, 5, 0, 0, 0],\n",
    "    [0, 9, 8, 0, 0, 0, 0, 6, 0],\n",
    "    [8, 0, 0, 0, 6, 0, 0, 0, 3],\n",
    "    [4, 0, 0, 8, 0, 3, 0, 0, 1],\n",
    "    [7, 0, 0, 0, 2, 0, 0, 0, 6],\n",
    "    [0, 6, 0, 0, 0, 0, 2, 8, 0],\n",
    "    [0, 0, 0, 4, 1, 9, 0, 0, 5],\n",
    "    [0, 0, 0, 0, 8, 0, 0, 7, 9]\n",
    "]\n",
    "\n",
    "print(isLegalSudoku(sudoku_board))  # Output: True\n"
   ]
  },
  {
   "cell_type": "code",
   "execution_count": null,
   "id": "4bd300be",
   "metadata": {},
   "outputs": [],
   "source": []
  }
 ],
 "metadata": {
  "kernelspec": {
   "display_name": "Python 3 (ipykernel)",
   "language": "python",
   "name": "python3"
  },
  "language_info": {
   "codemirror_mode": {
    "name": "ipython",
    "version": 3
   },
   "file_extension": ".py",
   "mimetype": "text/x-python",
   "name": "python",
   "nbconvert_exporter": "python",
   "pygments_lexer": "ipython3",
   "version": "3.11.5"
  }
 },
 "nbformat": 4,
 "nbformat_minor": 5
}
