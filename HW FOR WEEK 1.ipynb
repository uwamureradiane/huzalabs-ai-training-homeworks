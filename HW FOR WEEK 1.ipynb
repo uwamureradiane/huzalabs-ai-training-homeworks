{
  "nbformat": 4,
  "nbformat_minor": 0,
  "metadata": {
    "colab": {
      "provenance": []
    },
    "kernelspec": {
      "name": "python3",
      "display_name": "Python 3"
    },
    "language_info": {
      "name": "python"
    }
  },
  "cells": [
    {
      "cell_type": "markdown",
      "source": [
        "EXTRA-PRACTICE NUMBER 1"
      ],
      "metadata": {
        "id": "p20zDdH6wiR4"
      }
    },
    {
      "cell_type": "code",
      "execution_count": 2,
      "metadata": {
        "id": "q3YW3ZA8uJFA"
      },
      "outputs": [],
      "source": [
        "import math\n",
        "def fabricYards(inches):\n",
        "    number = math.ceil(inches / 36)  #math.floor():rounds a number down to the nearest whole number\n",
        "                                     #math.ceil(): rounds a number up to the nearest whole number\n",
        "    return number"
      ]
    },
    {
      "cell_type": "code",
      "source": [
        "x = int(input(\"enter the number of inches of fabric desired\"))\n",
        "print(\"the number of yards of fabric to be purchased is\")\n",
        "fabricYards(x)\n"
      ],
      "metadata": {
        "colab": {
          "base_uri": "https://localhost:8080/"
        },
        "id": "I-Wu4i4vuyCJ",
        "outputId": "6e7b6232-7c11-4ee6-90f6-06bdd0d1b93a"
      },
      "execution_count": 4,
      "outputs": [
        {
          "output_type": "stream",
          "name": "stdout",
          "text": [
            "enter the number of inches of fabric desired264\n",
            "the number of yards of fabric to be purchased is\n"
          ]
        },
        {
          "output_type": "execute_result",
          "data": {
            "text/plain": [
              "8"
            ]
          },
          "metadata": {},
          "execution_count": 4
        }
      ]
    },
    {
      "cell_type": "markdown",
      "source": [
        "NUMBER 2"
      ],
      "metadata": {
        "id": "Vr15zmpZww73"
      }
    },
    {
      "cell_type": "code",
      "source": [
        "def fabricExcess(inches):\n",
        "    total_inches_bought=fabricYards(inches) * 36\n",
        "    excess_inches=total_inches_bought - inches\n",
        "    print(\"excess inches bought is\")\n",
        "    return excess_inches\n",
        "fabricExcess(x)"
      ],
      "metadata": {
        "colab": {
          "base_uri": "https://localhost:8080/"
        },
        "id": "xpgNbMJbwzXz",
        "outputId": "629679e6-bd7d-40ae-b072-e417320bf35f"
      },
      "execution_count": 5,
      "outputs": [
        {
          "output_type": "stream",
          "name": "stdout",
          "text": [
            "excess inches bought is\n"
          ]
        },
        {
          "output_type": "execute_result",
          "data": {
            "text/plain": [
              "24"
            ]
          },
          "metadata": {},
          "execution_count": 5
        }
      ]
    },
    {
      "cell_type": "markdown",
      "source": [
        "NUMBER 3"
      ],
      "metadata": {
        "id": "sLHftMlBxe50"
      }
    },
    {
      "cell_type": "code",
      "source": [
        "def isEvenPositive(x):\n",
        "    if isinstance(x, int) and x > 0 and x % 2 == 0: #isinstance:a built-in function used for type checking\n",
        "        return True\n",
        "    else:\n",
        "        return False\n",
        "#x =int(input(\"enter a number\"))\n",
        "#isEvenPositive(x)\n",
        "print(isEvenPositive(\"yikes\"))\n",
        "print(isEvenPositive(34))\n",
        "print(isEvenPositive(28.23))\n",
        "print(isEvenPositive(1 + 2j))"
      ],
      "metadata": {
        "colab": {
          "base_uri": "https://localhost:8080/"
        },
        "id": "ksJHLcwpwfWT",
        "outputId": "9a847a7b-d0bc-4d36-e9ab-69da355aba84"
      },
      "execution_count": 6,
      "outputs": [
        {
          "output_type": "stream",
          "name": "stdout",
          "text": [
            "False\n",
            "True\n",
            "False\n",
            "False\n"
          ]
        }
      ]
    },
    {
      "cell_type": "markdown",
      "source": [
        "NUMBER 4"
      ],
      "metadata": {
        "id": "gFVUOJH_yCeO"
      }
    },
    {
      "cell_type": "code",
      "source": [
        "import math\n",
        "def nthFibonacciNumber(n):\n",
        "    if isinstance(n, int) and n >= 0:\n",
        "      sqrt5 = math.sqrt(5)\n",
        "      phi = (1 + sqrt5) / 2\n",
        "      return round((phi ** (n + 1) - (-1 / phi) ** (n + 1)) / sqrt5)\n",
        "    else:\n",
        "      return False\n",
        "# Test cases\n",
        "print(nthFibonacciNumber(0))   # Output: 1\n",
        "print(nthFibonacciNumber(1))   # Output: 1\n",
        "print(nthFibonacciNumber(2))   # Output: 2\n",
        "print(nthFibonacciNumber(3))   # Output: 3\n",
        "print(nthFibonacciNumber(4))   # Output: 5\n",
        "print(nthFibonacciNumber(8))   # Output: 34\n",
        "#if the index have to come from the keyboard!\n",
        "n = int(input(\"Enter the index (n) to calculate the Fibonacci number: \"))\n",
        "print(\"The Fibonacci number at index\", n, \"is:\", nthFibonacciNumber(n) )"
      ],
      "metadata": {
        "colab": {
          "base_uri": "https://localhost:8080/"
        },
        "id": "b2nKuQSxyEkA",
        "outputId": "8f8e6cfb-00e3-418e-8b25-f3b48455ae66"
      },
      "execution_count": 7,
      "outputs": [
        {
          "output_type": "stream",
          "name": "stdout",
          "text": [
            "1\n",
            "1\n",
            "2\n",
            "3\n",
            "5\n",
            "34\n",
            "Enter the index (n) to calculate the Fibonacci number: 7\n",
            "The Fibonacci number at index 7 is: 21\n"
          ]
        }
      ]
    },
    {
      "cell_type": "markdown",
      "source": [
        "NUMBER 5"
      ],
      "metadata": {
        "id": "ceTA5r5vygDA"
      }
    },
    {
      "cell_type": "code",
      "source": [
        "def isLegalTriangle(s1, s2, s3):\n",
        "    if s1 <= 0 or s2 <= 0 or s3 <= 0:                   # Check if all sides are positive\n",
        "        return False\n",
        "\n",
        "    longest_side = max(s1, s2, s3)                      #gives the longest side among all!\n",
        "\n",
        "    if (s1 + s2 + s3 - longest_side ) > longest_side :  # Check the triangle inequality\n",
        "        return True\n",
        "    else:\n",
        "        return False\n",
        "\n",
        "print(isLegalTriangle(3.5, 4, 5))\n",
        "print(isLegalTriangle(5, 7, 12))\n",
        "print(isLegalTriangle(1, 1, 1))\n",
        "print(isLegalTriangle(4, 5, -6))"
      ],
      "metadata": {
        "colab": {
          "base_uri": "https://localhost:8080/"
        },
        "id": "Vi3GetoVyiP3",
        "outputId": "12391243-17e0-4c5b-f7de-53b69bad9658"
      },
      "execution_count": 8,
      "outputs": [
        {
          "output_type": "stream",
          "name": "stdout",
          "text": [
            "True\n",
            "False\n",
            "True\n",
            "False\n"
          ]
        }
      ]
    },
    {
      "cell_type": "markdown",
      "source": [
        "NUMBER 6"
      ],
      "metadata": {
        "id": "jw96UChfy1LI"
      }
    },
    {
      "cell_type": "code",
      "source": [
        "import math\n",
        "\n",
        "def almostEqual(a, b, epsilon = 10**-10):\n",
        "    return abs(a - b) < epsilon\n",
        "\n",
        "def distance(x1, y1, x2, y2):\n",
        "    return math.sqrt((x2 - x1) ** 2 + (y2 - y1) ** 2)\n",
        "\n",
        "def isRightTriangle(x1, y1, x2, y2, x3, y3):\n",
        "    # Calculate distances between vertices\n",
        "    d1 = distance(x1, y1, x2, y2)\n",
        "    d2 = distance(x2, y2, x3, y3)\n",
        "    d3 = distance(x3, y3, x1, y1)\n",
        "\n",
        "    # Find the maximum distance\n",
        "    max_side = max(d1, d2, d3)\n",
        "\n",
        "    # Check the Pythagorean theorem for each pair of sides\n",
        "    if almostEqual(max_side ** 2, d1 ** 2 + d2 ** 2):\n",
        "        return True\n",
        "    elif almostEqual(max_side ** 2, d1 ** 2 + d3 ** 2):\n",
        "        return True\n",
        "    elif almostEqual(max_side ** 2, d2 ** 2 + d3 ** 2):\n",
        "        return True\n",
        "    else:\n",
        "        return False\n",
        "\n",
        "# Test cases\n",
        "print(isRightTriangle(0, 0, 0, 3, 4, 0))  # Output: True    satisified on if\n",
        "print(isRightTriangle(0, 3, 4, 0, 0, 0))  # Output: True    satisified on 2nd elif\n",
        "print(isRightTriangle(1, 1, 2, 2, 3, 3))  # Output: False  (not a right triangle)\n",
        "print(isRightTriangle(1, 1, 5, 1, 1, 5))\n",
        "print(isRightTriangle(1.5, 2.5 ,4.5 , 2.5, 1.5, 5.5 ))\n",
        "print(isRightTriangle(1.5, 2.5 , 1.5, 5.5, 4.5 , 2.5))\n",
        "print(isRightTriangle(1, 1, 4.5, 1, 1, 4.5))\n"
      ],
      "metadata": {
        "colab": {
          "base_uri": "https://localhost:8080/"
        },
        "id": "t59JzOYgy4MF",
        "outputId": "9d489fe1-77e6-4807-e61d-01a7c5927e76"
      },
      "execution_count": 9,
      "outputs": [
        {
          "output_type": "stream",
          "name": "stdout",
          "text": [
            "True\n",
            "True\n",
            "False\n",
            "True\n",
            "True\n",
            "True\n",
            "True\n"
          ]
        }
      ]
    },
    {
      "cell_type": "markdown",
      "source": [
        "PART A-NUMBER 1"
      ],
      "metadata": {
        "id": "yzMheE41zP3d"
      }
    },
    {
      "cell_type": "code",
      "source": [
        "def distanceCalculation(x1,y1,x2,y2):\n",
        "    distance = math.sqrt((x2 - x1)**2 + (y2 - y1)**2)\n",
        "    print(\"distance is\")\n",
        "    return distance\n",
        "\n",
        "print(\"enter x1,y1,x2,y2 respectively\")\n",
        "a =float(input())\n",
        "b = float(input())\n",
        "c = float(input())\n",
        "d = float(input())\n",
        "distanceCalculation(a,b,c,d)"
      ],
      "metadata": {
        "colab": {
          "base_uri": "https://localhost:8080/"
        },
        "id": "yGiXy6zAzU80",
        "outputId": "222811e0-ebce-40a9-bcf1-d82b6db6fb6d"
      },
      "execution_count": 11,
      "outputs": [
        {
          "output_type": "stream",
          "name": "stdout",
          "text": [
            "enter x1,y1,x2,y2 respectively\n",
            "10.35\n",
            "20\n",
            "25.05\n",
            "32\n",
            "distance is\n"
          ]
        },
        {
          "output_type": "execute_result",
          "data": {
            "text/plain": [
              "18.976037521042162"
            ]
          },
          "metadata": {},
          "execution_count": 11
        }
      ]
    },
    {
      "cell_type": "markdown",
      "source": [
        "NUMBER 2"
      ],
      "metadata": {
        "id": "CvULKsWz0NAZ"
      }
    },
    {
      "cell_type": "code",
      "source": [
        "import math\n",
        "#Circles intersect when the distance between their centers is less than or equal to the sum of their radii!!\n",
        "\n",
        "def circlesIntersect(x1, y1, r1, x2, y2, r2):\n",
        "    # Calculate the distance between the centers of the circles\n",
        "    distance_centers = math.sqrt((x2 - x1) ** 2 + (y2 - y1) ** 2)\n",
        "    print(\"do circles intersect?\")\n",
        "    # Check if the distance is less than or equal to the sum of the radii\n",
        "    if distance_centers <= r1 + r2:\n",
        "        return True\n",
        "    else:\n",
        "        return False\n",
        "\n",
        "\n",
        "# Get input from the user for circle 1\n",
        "x1 = float(input(\"Enter the x-coordinate of the center of circle 1: \"))\n",
        "y1 = float(input(\"Enter the y-coordinate of the center of circle 1: \"))\n",
        "r1 = float(input(\"Enter the radius of circle 1: \"))\n",
        "\n",
        "# Get input from the user for circle 2\n",
        "x2 = float(input(\"Enter the x-coordinate of the center of circle 2: \"))\n",
        "y2 = float(input(\"Enter the y-coordinate of the center of circle 2: \"))\n",
        "r2 = float(input(\"Enter the radius of circle 2: \"))\n",
        "\n",
        "circlesIntersect(x1, y1, r1, x2, y2, r2)"
      ],
      "metadata": {
        "colab": {
          "base_uri": "https://localhost:8080/"
        },
        "id": "376q8Ne-0Ow1",
        "outputId": "dc89e923-ae90-4472-e7ac-e798690682b3"
      },
      "execution_count": 12,
      "outputs": [
        {
          "output_type": "stream",
          "name": "stdout",
          "text": [
            "Enter the x-coordinate of the center of circle 1: 2\n",
            "Enter the y-coordinate of the center of circle 1: 4\n",
            "Enter the radius of circle 1: 5\n",
            "Enter the x-coordinate of the center of circle 2: 6\n",
            "Enter the y-coordinate of the center of circle 2: 12\n",
            "Enter the radius of circle 2: 10\n",
            "do circles intersect?\n"
          ]
        },
        {
          "output_type": "execute_result",
          "data": {
            "text/plain": [
              "True"
            ]
          },
          "metadata": {},
          "execution_count": 12
        }
      ]
    },
    {
      "cell_type": "markdown",
      "source": [
        "NUMBER 3"
      ],
      "metadata": {
        "id": "_2l3Wnyi0683"
      }
    },
    {
      "cell_type": "code",
      "source": [
        "def getInRange(x, bound1, bound2):\n",
        "    # Determine the lower and upper bounds\n",
        "    lower_bound = min(bound1, bound2)\n",
        "    upper_bound = max(bound1, bound2)\n",
        "\n",
        "    # Check if x is within the range [lower_bound, upper_bound]\n",
        "    if lower_bound <= x <= upper_bound:\n",
        "        return x\n",
        "    elif x < lower_bound:\n",
        "        return lower_bound\n",
        "    else:\n",
        "        return upper_bound\n",
        "\n",
        "# Test cases\n",
        "print(getInRange(1, 3, 5))  # Output: 3\n",
        "print(getInRange(4, 3, 5))  # Output: 4\n",
        "print(getInRange(6, 3, 5))  # Output: 5\n",
        "print(getInRange(6, 5, 3))  # Output: 5"
      ],
      "metadata": {
        "colab": {
          "base_uri": "https://localhost:8080/"
        },
        "id": "_8NWnN2D1BGF",
        "outputId": "fff4ef76-369d-41b0-b801-1826a6d956b8"
      },
      "execution_count": 13,
      "outputs": [
        {
          "output_type": "stream",
          "name": "stdout",
          "text": [
            "3\n",
            "4\n",
            "5\n",
            "5\n"
          ]
        }
      ]
    },
    {
      "cell_type": "markdown",
      "source": [
        "NUMBER 4"
      ],
      "metadata": {
        "id": "XRhUStU61OcW"
      }
    },
    {
      "cell_type": "code",
      "source": [
        "import math\n",
        "def eggCartons(eggs):\n",
        "  print(\"the number of cartons to hold your\",eggs ,\"eggs is\")\n",
        "  return math.ceil(eggs / 12)\n",
        "\n",
        "print(eggCartons(20))\n",
        "print(eggCartons(0))\n",
        "print(eggCartons(4))"
      ],
      "metadata": {
        "colab": {
          "base_uri": "https://localhost:8080/"
        },
        "id": "u2a08piB1UZE",
        "outputId": "aad7ab88-5335-48a6-9c8c-230978f89f8d"
      },
      "execution_count": 14,
      "outputs": [
        {
          "output_type": "stream",
          "name": "stdout",
          "text": [
            "the number of cartons to hold your 20 eggs is\n",
            "2\n",
            "the number of cartons to hold your 0 eggs is\n",
            "0\n",
            "the number of cartons to hold your 4 eggs is\n",
            "1\n"
          ]
        }
      ]
    },
    {
      "cell_type": "markdown",
      "source": [
        "NUMBER 5"
      ],
      "metadata": {
        "id": "ZJvzcwgQ1d9W"
      }
    },
    {
      "cell_type": "code",
      "source": [
        "import math\n",
        "\n",
        "def pascalsTriangleValue(row, col):\n",
        "    # Check if row and col are legal values\n",
        "    if row < 0 or col < 0 or col > row:\n",
        "        return None\n",
        "\n",
        "    # Calculate the value in the given row and column using the binomial coefficient formula\n",
        "    value = math.factorial(row) // (math.factorial(col) * math.factorial(row - col))\n",
        "    return value\n",
        "\n",
        "# Test cases\n",
        "print(pascalsTriangleValue(0, 0))   # Output: 1\n",
        "print(pascalsTriangleValue(1, 0))   # Output: 1\n",
        "print(pascalsTriangleValue(2, 1))   # Output: 2\n",
        "print(pascalsTriangleValue(5, 2))   # Output: 10\n",
        "print(pascalsTriangleValue(5, 3))   # Output: 10\n",
        "print(pascalsTriangleValue(5, 6))   # Output: None (col > row)\n",
        "print(pascalsTriangleValue(-1, 2))  # Output: None (row < 0)"
      ],
      "metadata": {
        "colab": {
          "base_uri": "https://localhost:8080/"
        },
        "id": "WXtitxDa1fr2",
        "outputId": "5981d8e5-e5bd-468a-bbdf-01139410afd2"
      },
      "execution_count": 15,
      "outputs": [
        {
          "output_type": "stream",
          "name": "stdout",
          "text": [
            "1\n",
            "1\n",
            "2\n",
            "10\n",
            "10\n",
            "None\n",
            "None\n"
          ]
        }
      ]
    },
    {
      "cell_type": "markdown",
      "source": [
        "NUMBER 6"
      ],
      "metadata": {
        "id": "a9HrM7Oo1tJK"
      }
    },
    {
      "cell_type": "code",
      "source": [
        "def getKthDigit(n, k):\n",
        "    # Convert negative number to positive\n",
        "    n = abs(n)\n",
        "\n",
        "    # Convert n to string to access individual digits\n",
        "    n_str = str(n)\n",
        "\n",
        "    # Check if k is valid (within the range of digits in n)\n",
        "    if k < 0 or k >= len(n_str):\n",
        "        return None\n",
        "\n",
        "    # Return the kth digit from the right\n",
        "    return int(n_str[-(k + 1)])\n",
        "\n",
        "# Test cases\n",
        "print(getKthDigit(789, 0))   # Output: 9\n",
        "print(getKthDigit(789, 1))   # Output: 8\n",
        "print(getKthDigit(789, 2))   # Output: 7\n",
        "print(getKthDigit(789, 3))   # Output: 0\n",
        "print(getKthDigit(-789, 0))  # Output: 9\n",
        "print(getKthDigit(478935, 3))  # Output: 8"
      ],
      "metadata": {
        "colab": {
          "base_uri": "https://localhost:8080/"
        },
        "id": "7WruaLQT1vFY",
        "outputId": "4b2435fa-bdf8-42bd-bf0f-cf4f1c0efc01"
      },
      "execution_count": 16,
      "outputs": [
        {
          "output_type": "stream",
          "name": "stdout",
          "text": [
            "9\n",
            "8\n",
            "7\n",
            "None\n",
            "9\n",
            "8\n"
          ]
        }
      ]
    },
    {
      "cell_type": "markdown",
      "source": [
        "NUMBER 9"
      ],
      "metadata": {
        "id": "wcuVdBEY17_8"
      }
    },
    {
      "cell_type": "code",
      "source": [
        "import decimal\n",
        "\n",
        "def roundHalfUp(d):\n",
        "    # Round to nearest with ties going away from zero.\n",
        "    rounding = decimal.ROUND_HALF_UP\n",
        "    return int(decimal.Decimal(d).to_integral_value(rounding=rounding))\n",
        "\n",
        "def nearestOdd(n):\n",
        "    # Round n to the nearest integer\n",
        "    rounded_n = roundHalfUp(n)\n",
        "\n",
        "    # Check if the rounded number is even\n",
        "    if rounded_n % 2 == 0:\n",
        "        # If even, return the nearest odd number by adding or subtracting 1\n",
        "        return rounded_n + 1 if rounded_n < n else rounded_n - 1\n",
        "    else:\n",
        "        # If odd, return the rounded number as it is\n",
        "        return rounded_n\n",
        "\n",
        "# Test cases\n",
        "print(nearestOdd(13.0))   # Output: 13\n",
        "print(nearestOdd(14.0))   # Output: 13\n",
        "print(nearestOdd(15.0))   # Output: 15\n",
        "print(nearestOdd(12.5))   # Output: 13\n",
        "print(nearestOdd(11.5))   # Output: 11\n"
      ],
      "metadata": {
        "colab": {
          "base_uri": "https://localhost:8080/"
        },
        "id": "hjtxdsC-2Ase",
        "outputId": "c811e6e5-1060-4557-8c11-01804a97d688"
      },
      "execution_count": 17,
      "outputs": [
        {
          "output_type": "stream",
          "name": "stdout",
          "text": [
            "13\n",
            "13\n",
            "15\n",
            "13\n",
            "11\n"
          ]
        }
      ]
    },
    {
      "cell_type": "markdown",
      "source": [
        "PART B-NUMBER 10"
      ],
      "metadata": {
        "id": "BR02N1iE2NMQ"
      }
    },
    {
      "cell_type": "code",
      "source": [
        "def numberOfPoolBalls(rows):\n",
        "    if rows <= 0:\n",
        "       return False\n",
        "    # Calculate the total number of pool balls using the formula for sum of first n natural numbers\n",
        "    total_balls = (rows * (rows + 1)) // 2\n",
        "    return total_balls\n",
        "\n",
        "# Test cases\n",
        "print(numberOfPoolBalls(-2))\n",
        "print(numberOfPoolBalls(0))\n",
        "print(numberOfPoolBalls(1))   # Output: 1\n",
        "print(numberOfPoolBalls(2))   # Output: 3\n",
        "print(numberOfPoolBalls(3))   # Output: 6\n",
        "print(numberOfPoolBalls(5))   # Output: 15\n",
        "print(numberOfPoolBalls(7))   # Output: 28"
      ],
      "metadata": {
        "colab": {
          "base_uri": "https://localhost:8080/"
        },
        "id": "xU0kCIo02RV3",
        "outputId": "8a2bb3a8-03ba-4db0-f5e0-8eafc5102887"
      },
      "execution_count": 18,
      "outputs": [
        {
          "output_type": "stream",
          "name": "stdout",
          "text": [
            "False\n",
            "False\n",
            "1\n",
            "3\n",
            "6\n",
            "15\n",
            "28\n"
          ]
        }
      ]
    },
    {
      "cell_type": "markdown",
      "source": [
        "NUMBER 11"
      ],
      "metadata": {
        "id": "iD_uCf7D2apI"
      }
    },
    {
      "cell_type": "code",
      "source": [
        "import math\n",
        "\n",
        "def numberOfPoolBallRows(balls):\n",
        "    if balls <= 0:\n",
        "       return False\n",
        "    # Calculate the number of rows using the inverse of the sum formula\n",
        "    rows = math.ceil((-1 + math.sqrt(1 + 8 * balls)) / 2)\n",
        "    return rows\n",
        "\n",
        "# Test cases\n",
        "print(numberOfPoolBallRows(-4))  # Output: false\n",
        "print(numberOfPoolBallRows(6))   # Output: 3\n",
        "print(numberOfPoolBallRows(7))   # Output: 4\n",
        "print(numberOfPoolBallRows(15))  # Output: 5"
      ],
      "metadata": {
        "colab": {
          "base_uri": "https://localhost:8080/"
        },
        "id": "9ehgMR2R2cRB",
        "outputId": "e0c5f2b5-c686-4b1f-be33-c0ad37bb9899"
      },
      "execution_count": 19,
      "outputs": [
        {
          "output_type": "stream",
          "name": "stdout",
          "text": [
            "False\n",
            "3\n",
            "4\n",
            "5\n"
          ]
        }
      ]
    },
    {
      "cell_type": "markdown",
      "source": [
        "NUMBER 12"
      ],
      "metadata": {
        "id": "Sj4-bLQ32ljc"
      }
    },
    {
      "cell_type": "code",
      "source": [
        "import decimal\n",
        "\n",
        "def roundHalfUp(d):\n",
        "    # Round to nearest with ties going away from zero.\n",
        "    rounding = decimal.ROUND_HALF_UP\n",
        "    return int(decimal.Decimal(d).to_integral_value(rounding=rounding))\n",
        "\n",
        "def colorBlender(rgb1, rgb2, midpoints, n):\n",
        "    # Decode RGB values from integers\n",
        "    r1, g1, b1 = rgb1 // 1000000, (rgb1 % 1000000) // 1000, rgb1 % 1000\n",
        "    r2, g2, b2 = rgb2 // 1000000, (rgb2 % 1000000) // 1000, rgb2 % 1000\n",
        "\n",
        "    # Calculate intermediate RGB values\n",
        "    step_r = (r2 - r1) / (midpoints + 1)\n",
        "    step_g = (g2 - g1) / (midpoints + 1)\n",
        "    step_b = (b2 - b1) / (midpoints + 1)\n",
        "\n",
        "    # Calculate the nth color if it's within the range\n",
        "    if 0 <= n <= midpoints + 1:\n",
        "        r = roundHalfUp(r1 + step_r * n)\n",
        "        g = roundHalfUp(g1 + step_g * n)\n",
        "        b = roundHalfUp(b1 + step_b * n)\n",
        "\n",
        "        # Encode RGB values into an integer\n",
        "        result_rgb = r * 1000000 + g * 1000 + b\n",
        "        return result_rgb\n",
        "    else:\n",
        "        return None\n",
        "        # Test case\n",
        "print(colorBlender(220020060, 189252201, 3, 1))  # Output: 212078095"
      ],
      "metadata": {
        "colab": {
          "base_uri": "https://localhost:8080/"
        },
        "id": "OYT1E3r_2nq1",
        "outputId": "d7bc89f2-d624-489e-b0dd-4966c171c560"
      },
      "execution_count": 20,
      "outputs": [
        {
          "output_type": "stream",
          "name": "stdout",
          "text": [
            "212078095\n"
          ]
        }
      ]
    }
  ]
}