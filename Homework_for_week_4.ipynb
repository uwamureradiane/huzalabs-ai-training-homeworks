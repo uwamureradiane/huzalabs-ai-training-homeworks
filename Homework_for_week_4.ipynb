{
  "nbformat": 4,
  "nbformat_minor": 0,
  "metadata": {
    "colab": {
      "provenance": []
    },
    "kernelspec": {
      "name": "python3",
      "display_name": "Python 3"
    },
    "language_info": {
      "name": "python"
    }
  },
  "cells": [
    {
      "cell_type": "code",
      "execution_count": null,
      "metadata": {
        "id": "4cy17l3nwzVf"
      },
      "outputs": [],
      "source": []
    },
    {
      "cell_type": "markdown",
      "source": [
        "EXTRA PRACTISE 8 QUESTION 1"
      ],
      "metadata": {
        "id": "oUajdM4mw1z_"
      }
    },
    {
      "cell_type": "code",
      "source": [
        "# my solution to question below\n",
        "#O(n)implementation\n",
        "\n",
        "\n",
        "def mostCommonName(names):\n",
        "    counts = {}\n",
        "    max_count = 0\n",
        "    most_common_name = set()\n",
        "\n",
        "    for name in names:\n",
        "        counts[name] = counts.get(name, 0) + 1\n",
        "        if counts[name] > max_count:\n",
        "            max_count = counts[name]\n",
        "            most_common_name = {name}\n",
        "        elif counts[name] == max_count:\n",
        "            most_common_name.add(name)\n",
        "\n",
        "\n",
        "\n",
        "\n",
        "    if most_common_name:\n",
        "        if len(most_common_name)==1:\n",
        "            return most_common_name.pop()\n",
        "        else:\n",
        "            return most_common_name\n",
        "    else:\n",
        "        return None\n",
        "\n",
        "def testMostCommonName():\n",
        "    print(\"Testing mostCommonName()...\", end=\"\")\n",
        "    assert(mostCommonName([\"Jane\", \"Aaron\", \"Cindy\", \"Aaron\"])\n",
        "           == \"Aaron\")\n",
        "    assert(mostCommonName([\"Jane\", \"Aaron\", \"Jane\", \"Cindy\", \"Aaron\"])\n",
        "           == {\"Aaron\", \"Jane\"})\n",
        "    assert(mostCommonName([\"Cindy\"]) == \"Cindy\")\n",
        "    assert(mostCommonName([\"Jane\", \"Aaron\", \"Cindy\"])\n",
        "           == {\"Aaron\", \"Cindy\", \"Jane\"})\n",
        "    assert(mostCommonName([]) == None)\n",
        "    print(\"Passed!\")\n",
        "\n",
        "testMostCommonName()"
      ],
      "metadata": {
        "colab": {
          "base_uri": "https://localhost:8080/"
        },
        "id": "dPDgmjk0x5I-",
        "outputId": "a184a250-ac36-49b0-cd04-777c831007e1"
      },
      "execution_count": 2,
      "outputs": [
        {
          "output_type": "stream",
          "name": "stdout",
          "text": [
            "Testing mostCommonName()...Passed!\n"
          ]
        }
      ]
    },
    {
      "cell_type": "code",
      "source": [
        "# my solution to question 1 above\n",
        "# O(n**2)\n",
        "def mostCommonName_n2(names):\n",
        "    max_count = 0\n",
        "    most_common_names = set()\n",
        "\n",
        "    for name in names:\n",
        "        count = sum(1 for n in names if n == name)\n",
        "        if count > max_count:\n",
        "            max_count = count\n",
        "            most_common_names = {name}\n",
        "        elif count == max_count:\n",
        "            most_common_names.add(name)\n",
        "\n",
        "    if most_common_names:\n",
        "        return most_common_names\n",
        "    else:\n",
        "        return None\n",
        "\n",
        "\n",
        "print(mostCommonName_n2([\"Jane\", \"Aaron\", \"Jane\", \"Cindy\", \"Aaron\"]))  # Output: {\"Aaron\", \"Jane\"}\n"
      ],
      "metadata": {
        "colab": {
          "base_uri": "https://localhost:8080/"
        },
        "id": "ulWwn6kZy-bG",
        "outputId": "da4d7199-820c-42fb-f5e2-cf62a68dbedb"
      },
      "execution_count": 3,
      "outputs": [
        {
          "output_type": "stream",
          "name": "stdout",
          "text": [
            "{'Aaron', 'Jane'}\n"
          ]
        }
      ]
    },
    {
      "cell_type": "code",
      "source": [
        "def mostCommonName_nlogn(names):\n",
        "    names.sort()\n",
        "    max_count = 0\n",
        "    current_count = 0\n",
        "    most_common_names = set()\n",
        "\n",
        "    for i in range(len(names)):\n",
        "        current_count += 1\n",
        "\n",
        "        if i == len(names) - 1 or names[i] != names[i + 1]:\n",
        "            if current_count > max_count:\n",
        "                max_count = current_count\n",
        "                most_common_names = {names[i]}\n",
        "            elif current_count == max_count:\n",
        "                most_common_names.add(names[i])\n",
        "\n",
        "            current_count = 0\n",
        "\n",
        "    if most_common_names:\n",
        "        return most_common_names\n",
        "    else:\n",
        "        return None\n",
        "\n",
        "# taking an example\n",
        "print(mostCommonName_nlogn([\"Jane\", \"Aaron\", \"Jane\", \"Cindy\", \"Aaron\"]))  # Output: {\"Aaron\", \"Jane\"}\n"
      ],
      "metadata": {
        "colab": {
          "base_uri": "https://localhost:8080/"
        },
        "id": "SznedU4lzVs7",
        "outputId": "c030759c-5316-4552-a65a-21ee80cacb4a"
      },
      "execution_count": 4,
      "outputs": [
        {
          "output_type": "stream",
          "name": "stdout",
          "text": [
            "{'Aaron', 'Jane'}\n"
          ]
        }
      ]
    },
    {
      "cell_type": "code",
      "source": [
        "# my solution to question 5 below\n",
        "def mostPopularFriend(d):\n",
        "    friend_count = {}\n",
        "\n",
        "    # Iterate through each set of friends\n",
        "    for friends in d.values():\n",
        "        for friend in friends:\n",
        "            # Count occurrences of each friend\n",
        "            if friend in friend_count:\n",
        "                friend_count[friend] += 1\n",
        "            else:\n",
        "                friend_count[friend] = 1\n",
        "\n",
        "    # Find the friend with the maximum count\n",
        "    most_popular_friend = max(friend_count, key=friend_count.get)\n",
        "\n",
        "    return most_popular_friend\n",
        "\n",
        "# Example usage\n",
        "d = dict()\n",
        "d[\"fred\"] = set([\"wilma\", \"betty\", \"barney\"])\n",
        "d[\"wilma\"] = set([\"fred\", \"betty\", \"dino\"])\n",
        "\n",
        "print(mostPopularFriend(d))  # Output: \"betty\"\n"
      ],
      "metadata": {
        "colab": {
          "base_uri": "https://localhost:8080/"
        },
        "id": "BO9I-jAPzZ6y",
        "outputId": "ffe0e1ec-4d9e-4945-e03c-8bcbcc44c81a"
      },
      "execution_count": 5,
      "outputs": [
        {
          "output_type": "stream",
          "name": "stdout",
          "text": [
            "betty\n"
          ]
        }
      ]
    },
    {
      "cell_type": "code",
      "source": [
        "# my solution to question 6 is below\n",
        "\n",
        "def findTriplet(L, Sum):\n",
        "    triplets = []\n",
        "    n = len(L)\n",
        "    L.sort()  # Sort the list to make it easier to find triplets\n",
        "\n",
        "    for i in range(n - 2):  # Iterate from the first element to the third-to-last element\n",
        "        fir_index = i\n",
        "        middle_index = i + 1\n",
        "        sec_index = n - 1\n",
        "\n",
        "        while middle_index < sec_index:\n",
        "            current_sum = L[fir_index] + L[middle_index] + L[sec_index]\n",
        "            if current_sum == Sum:\n",
        "                triplets.append([L[fir_index], L[middle_index], L[sec_index]])\n",
        "                middle_index += 1  # Move the middle index forward to find other triplets\n",
        "                sec_index -= 1\n",
        "            elif current_sum < Sum:\n",
        "                middle_index += 1\n",
        "            else:\n",
        "                sec_index -= 1\n",
        "\n",
        "    return triplets\n",
        "\n",
        "L = [-1, 0, -3, 2, 1]\n",
        "findTriplet(L, 0)"
      ],
      "metadata": {
        "colab": {
          "base_uri": "https://localhost:8080/"
        },
        "id": "oWOi8nhGzvK0",
        "outputId": "953f80af-e1ef-4d65-b884-bcf945d54a9f"
      },
      "execution_count": 6,
      "outputs": [
        {
          "output_type": "execute_result",
          "data": {
            "text/plain": [
              "[[-3, 1, 2], [-1, 0, 1]]"
            ]
          },
          "metadata": {},
          "execution_count": 6
        }
      ]
    },
    {
      "cell_type": "markdown",
      "source": [
        "HW 8 QUESTION 2(person class)"
      ],
      "metadata": {
        "id": "FGyV-NrI0PXS"
      }
    },
    {
      "cell_type": "code",
      "source": [
        "# my solution to question two below\n",
        "class Person:\n",
        "    def __init__(self, name, age):\n",
        "        self.name = name\n",
        "        self.age = age\n",
        "        self.friends = []\n",
        "\n",
        "    def getName(self):\n",
        "        return self.name\n",
        "\n",
        "    def getAge(self):\n",
        "        return self.age\n",
        "\n",
        "    def getFriends(self):\n",
        "        return self.friends\n",
        "\n",
        "    def getFriendsNames(self):\n",
        "        return sorted([friend.getName() for friend in self.friends])\n",
        "\n",
        "    def addFriend(self, person):\n",
        "        if person not in self.friends:\n",
        "            self.friends.append(person)\n",
        "            person.addFriend(self)\n",
        "\n",
        "    def addFriends(self, people):\n",
        "        if isinstance(people, Person):\n",
        "            people = [people]\n",
        "        for person in people:\n",
        "            self.addFriend(person)\n",
        "\n",
        "print('Testing Person Class...', end='')\n",
        "fred = Person('fred', 32)\n",
        "assert(isinstance(fred, Person))\n",
        "assert(fred.getName() == 'fred')\n",
        "assert(fred.getAge() == 32)\n",
        "assert(fred.getFriends() == [ ])\n",
        "assert(fred.getFriendsNames() == [ ])\n",
        "\n",
        "wilma = Person('wilma', 35)\n",
        "assert(wilma.getName() == 'wilma')\n",
        "assert(wilma.getAge() == 35)\n",
        "assert(wilma.getFriends() == [ ])\n",
        "\n",
        "wilma.addFriend(fred)\n",
        "assert(wilma.getFriends() == [fred])\n",
        "assert(wilma.getFriendsNames() == ['fred'])\n",
        "assert(fred.getFriends() == [wilma]) # friends are mutual!\n",
        "assert(fred.getFriendsNames() == ['wilma'])\n",
        "\n",
        "wilma.addFriend(fred)\n",
        "assert(wilma.getFriends() == [fred]) # don't add twice!\n",
        "\n",
        "betty = Person('betty', 29)\n",
        "fred.addFriend(betty)\n",
        "assert(fred.getFriendsNames() == ['betty', 'wilma'])\n",
        "\n",
        "pebbles = Person('pebbles', 4)\n",
        "betty.addFriend(pebbles)\n",
        "assert(betty.getFriendsNames() == ['fred', 'pebbles'])\n"
      ],
      "metadata": {
        "colab": {
          "base_uri": "https://localhost:8080/"
        },
        "id": "btFU4D9r0Doj",
        "outputId": "f39dd625-7313-4c09-d915-b460f45a2018"
      },
      "execution_count": 7,
      "outputs": [
        {
          "output_type": "stream",
          "name": "stdout",
          "text": [
            "Testing Person Class..."
          ]
        }
      ]
    },
    {
      "cell_type": "markdown",
      "source": [
        "HOMEWORK 8 QUESTION 3(get pairsum)"
      ],
      "metadata": {
        "id": "VXFPUpPE0p-q"
      }
    },
    {
      "cell_type": "code",
      "source": [
        "# my solution to question 3 is below\n",
        "def getPairSum(L, target):\n",
        "\n",
        "    num_set = set()\n",
        "\n",
        "    for num in L:\n",
        "        complement= num- target\n",
        "        if complement in num_set:\n",
        "            return (num, complement)\n",
        "\n",
        "        else:\n",
        "            num_set.add(num)\n",
        "\n",
        "    return None\n",
        "\n",
        "getPairSum([1], 1) == None\n",
        "getPairSum([5, 2], 7) in [ (5, 2), (2, 5) ]\n",
        "getPairSum([10, -1, 1, -8, 3, 1], 2) in [ (10, -8), (-8, 10), (-1, 3), (3, -1), (1, 1) ]\n",
        "getPairSum([10, -1, 1, -8, 3, 1], 10) == None"
      ],
      "metadata": {
        "colab": {
          "base_uri": "https://localhost:8080/"
        },
        "id": "Eatij2_m03jC",
        "outputId": "f8625b47-2611-4a61-b1ff-e01c519a3b6e"
      },
      "execution_count": 8,
      "outputs": [
        {
          "output_type": "execute_result",
          "data": {
            "text/plain": [
              "True"
            ]
          },
          "metadata": {},
          "execution_count": 8
        }
      ]
    },
    {
      "cell_type": "markdown",
      "source": [
        "HOMEWORK * QUESTION 4(contains pythagorean)"
      ],
      "metadata": {
        "id": "uoSB82QQ02me"
      }
    },
    {
      "cell_type": "code",
      "source": [
        "# my solution to question 4 below\n",
        "def containsPythagoreanTriple(L):\n",
        "    # Create a set to store the squares of elements in the list\n",
        "    squares_set = set(x ** 2 for x in L)\n",
        "\n",
        "    # Iterate through pairs of elements in the list\n",
        "    for i in range(len(L)):\n",
        "        for j in range(i+1, len(L)):\n",
        "            # Calculate the sum of squares of the two elements\n",
        "            sum_of_squares = L[i] ** 2 + L[j] ** 2\n",
        "            # Check if the sum of squares is in the squares set\n",
        "            if sum_of_squares in squares_set:\n",
        "                return True\n",
        "\n",
        "    return False\n",
        "\n",
        "# Test cases\n",
        "print(containsPythagoreanTriple([1, 3, 6, 2, 5, 1, 4]))\n",
        "print(containsPythagoreanTriple([1, 3, 6, 2, 1, 4]))"
      ],
      "metadata": {
        "colab": {
          "base_uri": "https://localhost:8080/"
        },
        "id": "-4ggfLnQ1MYT",
        "outputId": "e19d593b-a3ad-4ba5-d8d6-be598f3e71f0"
      },
      "execution_count": 9,
      "outputs": [
        {
          "output_type": "stream",
          "name": "stdout",
          "text": [
            "True\n",
            "False\n"
          ]
        }
      ]
    },
    {
      "cell_type": "markdown",
      "source": [
        "HOMEWORK 8 QUESTION 5(movieAwards)"
      ],
      "metadata": {
        "id": "YFjHtr4MyV9X"
      }
    },
    {
      "cell_type": "code",
      "source": [
        "# my solution to question 5 below\n",
        "def movieAwards(oscarResult):\n",
        "    awards_count = {}\n",
        "\n",
        "    for category, movie in oscarResults:\n",
        "        # Check if the movie already exists in the dictionary\n",
        "        if movie in awards_count:\n",
        "            # Increment the count of awards for the movie\n",
        "            awards_count[movie] += 1\n",
        "        else:\n",
        "            # Initialize the count of awards for the movie\n",
        "            awards_count[movie] = 1\n",
        "\n",
        "    return awards_count\n",
        "\n",
        "oscarResults= {\n",
        "    (\"Best Picture\", \"Green Book\"),\n",
        "    (\"Best Actor\", \"Bohemian Rhapsody\"),\n",
        "    (\"Best Actress\", \"The Favourite\"),\n",
        "    (\"Film Editing\", \"Bohemian Rhapsody\"),\n",
        "    (\"Best Original Score\", \"Black Panther\"),\n",
        "    (\"Costume Design\", \"Black Panther\"),\n",
        "    (\"Sound Editing\", \"Bohemian Rhapsody\"),\n",
        "    (\"Best Director\", \"Roma\")\n",
        "  }\n",
        "print(movieAwards(oscarResults))"
      ],
      "metadata": {
        "colab": {
          "base_uri": "https://localhost:8080/"
        },
        "id": "Bbk-QQR51jv7",
        "outputId": "321540be-2bee-44ce-d2c4-22823762cceb"
      },
      "execution_count": 10,
      "outputs": [
        {
          "output_type": "stream",
          "name": "stdout",
          "text": [
            "{'Black Panther': 2, 'The Favourite': 1, 'Bohemian Rhapsody': 3, 'Roma': 1, 'Green Book': 1}\n"
          ]
        }
      ]
    },
    {
      "cell_type": "markdown",
      "source": [
        "HOMEWORK 8 QUESTION 6 (friendsof Friends(d)"
      ],
      "metadata": {
        "id": "D4j4WT3J1xC0"
      }
    },
    {
      "cell_type": "code",
      "source": [
        "# my solution to question 6 below\n",
        "def friendOfFriend(d):\n",
        "    result = {}\n",
        "    # Iterate through each person and their friends in the dictionary\n",
        "    for person, friends in d.items():\n",
        "        friendoffriends_set = set()\n",
        "\n",
        "        # Iterate through each friend of the current person\n",
        "        for friend in friends:\n",
        "            # Iterate through each friend of the friend\n",
        "            for fof in d[friend]:\n",
        "                # Check conditions and add friend-of-friend to the set\n",
        "                if fof != person and fof not in friends:\n",
        "                    friendoffriends_set.add(fof)\n",
        "\n",
        "        # Add the set of friends-of-friends to the result dictionary\n",
        "        result[person] = friendoffriends_set\n",
        "\n",
        "    return result\n",
        "\n",
        "# Test the function with provided data\n",
        "d = { }\n",
        "d[\"jon\"] = set([\"arya\", \"tyrion\"])\n",
        "d[\"tyrion\"] = set([\"jon\", \"jaime\", \"pod\"])\n",
        "d[\"arya\"] = set([\"jon\"])\n",
        "d[\"jaime\"] = set([\"tyrion\", \"brienne\"])\n",
        "d[\"brienne\"] = set([\"jaime\", \"pod\"])\n",
        "d[\"pod\"] = set([\"tyrion\", \"brienne\", \"jaime\"])\n",
        "d[\"ramsay\"] = set()\n",
        "\n",
        "print(friendOfFriend(d))"
      ],
      "metadata": {
        "colab": {
          "base_uri": "https://localhost:8080/"
        },
        "id": "imtOJC8u19Um",
        "outputId": "a55a25f8-9218-4b74-8ae2-518e4379cb59"
      },
      "execution_count": 11,
      "outputs": [
        {
          "output_type": "stream",
          "name": "stdout",
          "text": [
            "{'jon': {'pod', 'jaime'}, 'tyrion': {'brienne', 'arya'}, 'arya': {'tyrion'}, 'jaime': {'pod', 'jon'}, 'brienne': {'tyrion'}, 'pod': {'jon'}, 'ramsay': set()}\n"
          ]
        }
      ]
    },
    {
      "cell_type": "markdown",
      "source": [
        "HOMEWORK 8 QUESTION 7(sorting animmation)"
      ],
      "metadata": {
        "id": "LNZZQPez2L52"
      }
    },
    {
      "cell_type": "code",
      "source": [
        "# my solution to question 7 below\n",
        "import tkinter as tk\n",
        "import random\n",
        "\n",
        "# Global variables\n",
        "data = []\n",
        "canvas_width = 800\n",
        "canvas_height = 400\n",
        "bar_width = 20\n",
        "gap = 5\n",
        "sorting_index = 0\n",
        "is_sorted = False\n",
        "\n",
        "def generate_data():\n",
        "    global data\n",
        "    data = list(range(21))\n",
        "    random.shuffle(data)\n",
        "\n",
        "def bubble_sort():\n",
        "    global data, sorting_index\n",
        "    n = len(data)\n",
        "    for i in range(n):\n",
        "        for j in range(0, n-i-1):\n",
        "            if data[j] > data[j+1]:\n",
        "                data[j], data[j+1] = data[j+1], data[j]\n",
        "                draw_data(j, j+1)\n",
        "                sorting_index = j+1\n",
        "                yield\n",
        "\n",
        "def draw_data(index1, index2):\n",
        "    global data\n",
        "    canvas.delete(\"bars\")\n",
        "    for i, value in enumerate(data):\n",
        "        x0 = i * (bar_width + gap)\n",
        "        y0 = canvas_height\n",
        "        x1 = x0 + bar_width\n",
        "        y1 = canvas_height - value * 10\n",
        "        color = \"blue\"\n",
        "        if i == index1 or i == index2:\n",
        "            color = \"red\"\n",
        "        canvas.create_rectangle(x0, y0, x1, y1, fill=color, tags=\"bars\")\n",
        "\n",
        "def bonus_bubbleSort_animation():\n",
        "    global sorting_index, is_sorted\n",
        "    if not is_sorted:\n",
        "        yield from bubble_sort()\n",
        "        if sorting_index == len(data) - 1:\n",
        "            is_sorted = True\n",
        "\n",
        "def key_pressed(event):\n",
        "    global sorting_index, is_sorted\n",
        "    if event.keysym == \"Right\":\n",
        "        if sorting_index < len(data) - 1:\n",
        "            sorting_index += 1\n",
        "            draw_data(sorting_index, sorting_index)\n",
        "    elif event.keysym == \"Left\":\n",
        "        if sorting_index > 0:\n",
        "            sorting_index -= 1\n",
        "            draw_data(sorting_index, sorting_index)\n",
        "    elif event.char == \"r\":\n",
        "        generate_data()\n",
        "        sorting_index = 0\n",
        "        is_sorted = False\n",
        "        draw_data(sorting_index, sorting_index)\n",
        "\n",
        "# Initialize Tkinter\n",
        "root = tk.Tk()\n",
        "root.title(\"Bubble Sort Animation\")\n",
        "\n",
        "# Create canvas\n",
        "canvas = tk.Canvas(root, width=canvas_width, height=canvas_height)\n",
        "canvas.pack()\n",
        "\n",
        "# Bind key events\n",
        "root.bind(\"<KeyPress>\", key_pressed)\n",
        "\n",
        "# Generate initial data\n",
        "generate_data()\n",
        "draw_data(sorting_index, sorting_index)\n",
        "\n",
        "# Start animation\n",
        "root.after(100, bonus_bubbleSort_animation)\n",
        "root.mainloop()"
      ],
      "metadata": {
        "id": "rqOoQzmz2UK9"
      },
      "execution_count": null,
      "outputs": []
    }
  ]
}