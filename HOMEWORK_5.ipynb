{
  "nbformat": 4,
  "nbformat_minor": 0,
  "metadata": {
    "colab": {
      "provenance": []
    },
    "kernelspec": {
      "name": "python3",
      "display_name": "Python 3"
    },
    "language_info": {
      "name": "python"
    }
  },
  "cells": [
    {
      "cell_type": "code",
      "execution_count": null,
      "metadata": {
        "id": "HxDPReNKzkJ_"
      },
      "outputs": [],
      "source": []
    },
    {
      "cell_type": "markdown",
      "source": [
        "extra practice nbr 2"
      ],
      "metadata": {
        "id": "32DRAwEbzlGd"
      }
    },
    {
      "cell_type": "code",
      "source": [
        "import os\n",
        "\n",
        "def countFiles(path):\n",
        "    # Initialize count to 0\n",
        "    count = 0\n",
        "\n",
        "    # If the path is not a directory, return 0\n",
        "    if not os.path.isdir(path):\n",
        "        return 0\n",
        "\n",
        "    # Iterate over all items in the directory\n",
        "    for item in os.listdir(path):\n",
        "        # Create the full path to the item\n",
        "        item_path = os.path.join(path, item)\n",
        "        # If it's a file, increment count\n",
        "        if os.path.isfile(item_path):\n",
        "            count += 1\n",
        "        # If it's a directory, recursively call countFiles and add its count\n",
        "        elif os.path.isdir(item_path):\n",
        "            count += countFiles(item_path)\n",
        "\n",
        "    return count\n",
        "countFiles(\"sampleFiles/folderB/folderF/folderG\")\n",
        "#the overall time complexity of the countFiles function is O(n + d), where n is the total number of files and directories and d is the maximum depth of the directory tree.\n",
        "# the overall space complexity of the countFiles function is O(d), where d is the maximum depth of the directory tree."
      ],
      "metadata": {
        "colab": {
          "base_uri": "https://localhost:8080/"
        },
        "id": "MJ2sqgxJzp1k",
        "outputId": "5b2dd752-7aeb-4c9d-af65-304ed881991a"
      },
      "execution_count": 1,
      "outputs": [
        {
          "output_type": "execute_result",
          "data": {
            "text/plain": [
              "0"
            ]
          },
          "metadata": {},
          "execution_count": 1
        }
      ]
    },
    {
      "cell_type": "markdown",
      "source": [
        "question 7"
      ],
      "metadata": {
        "id": "kLUQFjW94Amh"
      }
    },
    {
      "cell_type": "code",
      "source": [
        "import math\n",
        "\n",
        "# Function to check if a number is prime\n",
        "def isPrime(n):\n",
        "    if n <= 1:\n",
        "        return False\n",
        "    if n <= 3:\n",
        "        return True\n",
        "    if n % 2 == 0 or n % 3 == 0:\n",
        "        return False\n",
        "    i = 5\n",
        "    while i * i <= n:\n",
        "        if n % i == 0 or n % (i + 2) == 0:\n",
        "            return False\n",
        "        i += 6\n",
        "    return True\n",
        "\n",
        "# Function to generate right-truncatable primes\n",
        "def findRTP(digits):\n",
        "    def backtrack(number):\n",
        "        nonlocal result\n",
        "        if len(str(number)) == digits:\n",
        "            result = number\n",
        "            return\n",
        "        for digit in range(1, 10):\n",
        "            candidate = number * 10 + digit\n",
        "            if isPrime(candidate):\n",
        "                backtrack(candidate)\n",
        "\n",
        "    result = None\n",
        "    backtrack(0)\n",
        "    return result\n",
        "findRTP(2)\n",
        "#Time Complexity: O(10^d) (approximately exponential)\n",
        "#Space Complexity: O(d) (where d is the length of the generated right-truncatable prime)"
      ],
      "metadata": {
        "colab": {
          "base_uri": "https://localhost:8080/"
        },
        "id": "ZrjFJQha4ENj",
        "outputId": "b7cb3068-bf02-492a-e0e2-72c9afdeec22"
      },
      "execution_count": 2,
      "outputs": [
        {
          "output_type": "execute_result",
          "data": {
            "text/plain": [
              "79"
            ]
          },
          "metadata": {},
          "execution_count": 2
        }
      ]
    },
    {
      "cell_type": "markdown",
      "source": [
        "QUESTION 8"
      ],
      "metadata": {
        "id": "fcJekh694U5Q"
      }
    },
    {
      "cell_type": "code",
      "source": [
        "# Function to check if a move is valid\n",
        "def is_valid_move(board, from_row, from_col, to_row, to_col):\n",
        "    rows = len(board)\n",
        "    cols = len(board[0])\n",
        "\n",
        "    # Check if the 'from' position contains a peg\n",
        "    if board[from_row][from_col] != 'O':\n",
        "        return False\n",
        "\n",
        "    # Check if the 'to' position is within the board bounds\n",
        "    if to_row < 0 or to_row >= rows or to_col < 0 or to_col >= cols:\n",
        "        return False\n",
        "\n",
        "    # Check if the 'to' position is empty\n",
        "    if board[to_row][to_col] != '.':\n",
        "        return False\n",
        "\n",
        "    # Check if the move is a valid jump (jumping over a peg)\n",
        "    jump_row = (from_row + to_row) // 2\n",
        "    jump_col = (from_col + to_col) // 2\n",
        "    if board[jump_row][jump_col] != 'O':\n",
        "        return False\n",
        "\n",
        "    return True\n",
        "\n",
        "# Function to perform a move on the board\n",
        "def make_move(board, from_row, from_col, to_row, to_col):\n",
        "    jump_row = (from_row + to_row) // 2\n",
        "    jump_col = (from_col + to_col) // 2\n",
        "\n",
        "    new_board = [list(row) for row in board]\n",
        "    new_board[from_row][from_col] = '.'\n",
        "    new_board[jump_row][jump_col] = '.'\n",
        "    new_board[to_row][to_col] = 'O'\n",
        "\n",
        "    return new_board\n",
        "\n",
        "# Function to solve the Peg Solitaire problem using backtracking\n",
        "def solve_peg_solitaire(board):\n",
        "    rows = len(board)\n",
        "    cols = len(board[0])\n",
        "\n",
        "    # Define a helper function for backtracking\n",
        "    def backtrack(board, moves):\n",
        "        # Base case: If there are no pegs left or time exceeds limit, return moves\n",
        "        if sum(row.count('O') for row in board) <= 1:\n",
        "            return moves\n",
        "\n",
        "        # Iterate over all positions on the board\n",
        "        for from_row in range(rows):\n",
        "            for from_col in range(cols):\n",
        "                # Check if the current position contains a peg\n",
        "                if board[from_row][from_col] == 'O':\n",
        "                    # Try all possible moves from this position\n",
        "                    for d_row, d_col in [(0, 2), (0, -2), (2, 0), (-2, 0)]:\n",
        "                        to_row, to_col = from_row + d_row, from_col + d_col\n",
        "                        if is_valid_move(board, from_row, from_col, to_row, to_col):\n",
        "                            new_board = make_move(board, from_row, from_col, to_row, to_col)\n",
        "                            result = backtrack(new_board, moves + [(from_row, from_col, to_row, to_col)])\n",
        "                            if result:\n",
        "                                return result\n",
        "        # If no solution found, return None\n",
        "        return None\n",
        "\n",
        "    # Start backtracking from the initial board state\n",
        "    return backtrack(board, [])\n",
        "\n",
        "# Testing the solver with the provided boards\n",
        "board10 = [\n",
        "    \"  ...  \",\n",
        "    \"  .O.  \",\n",
        "    \"..OO.O.\",\n",
        "    \".O...O.\",\n",
        "    \"..O.O..\",\n",
        "    \"  O.O  \",\n",
        "    \"  ...  \"\n",
        "]\n",
        "\n",
        "board14 = [\n",
        "    \"  ...  \",\n",
        "    \"  OO.  \",\n",
        "    \"..O.OO.\",\n",
        "    \"OO..OO.\",\n",
        "    \".OOO..O\",\n",
        "    \"  .O.  \",\n",
        "    \"  ...  \"\n",
        "]\n",
        "\n",
        "board16 = [\n",
        "    \"  ...  \",\n",
        "    \"  OO.  \",\n",
        "    \"..OO...\",\n",
        "    \"..OO.OO\",\n",
        "    \"OOO..OO\",\n",
        "    \"  OO.  \",\n",
        "    \"  .O.  \"\n",
        "]\n",
        "\n",
        "board32 = [\n",
        "    \"  OOO  \",\n",
        "    \"  OOO  \",\n",
        "    \"OOOOOOO\",\n",
        "    \"OOO.OOO\",\n",
        "    \"OOOOOOO\",\n",
        "    \"  OOO  \",\n",
        "    \"  OOO  \"\n",
        "]\n",
        "\n",
        "print(solve_peg_solitaire(board10))\n",
        "print(solve_peg_solitaire(board14))\n",
        "print(solve_peg_solitaire(board16))\n",
        "print(solve_peg_solitaire(board32))\n",
        "#Time Complexity: O(4^P) in the worst case, where P is the number of pegs on the board. However, the actual time complexity may be lower due to pruning and optimization.\n",
        "#Space Complexity: Exponential, primarily due to the recursion stack. The actual space usage may vary depending on the board size and the number of recursive calls.\n"
      ],
      "metadata": {
        "colab": {
          "base_uri": "https://localhost:8080/"
        },
        "id": "uSqyvge84Zu3",
        "outputId": "f0716727-4301-46d5-e47f-9efac6bc37cf"
      },
      "execution_count": 3,
      "outputs": [
        {
          "output_type": "stream",
          "name": "stdout",
          "text": [
            "[(1, 3, 3, 3), (2, 5, 4, 5), (4, 5, 4, 3), (3, 3, 5, 3), (5, 2, 3, 2), (2, 2, 4, 2), (5, 4, 5, 2), (5, 2, 3, 2), (3, 1, 3, 3)]\n",
            "[(1, 2, 1, 4), (2, 4, 4, 4), (3, 0, 3, 2), (4, 3, 4, 5), (4, 1, 4, 3), (4, 6, 4, 4), (5, 3, 3, 3), (3, 2, 3, 4), (4, 4, 2, 4), (2, 5, 2, 3), (2, 2, 2, 4), (1, 4, 3, 4), (3, 4, 3, 6)]\n",
            "[(1, 2, 1, 4), (2, 2, 2, 4), (1, 4, 3, 4), (3, 3, 3, 1), (4, 1, 4, 3), (4, 5, 2, 5), (4, 6, 2, 6), (2, 6, 2, 4), (2, 4, 4, 4), (4, 4, 4, 2), (6, 3, 4, 3), (4, 3, 4, 1), (4, 0, 4, 2), (5, 2, 3, 2), (3, 1, 3, 3)]\n",
            "[(1, 3, 3, 3), (2, 1, 2, 3), (0, 2, 2, 2), (0, 4, 0, 2), (2, 3, 2, 1), (2, 0, 2, 2), (2, 4, 0, 4), (2, 6, 2, 4), (3, 2, 1, 2), (0, 2, 2, 2), (3, 0, 3, 2), (3, 2, 1, 2), (3, 4, 3, 2), (3, 6, 3, 4), (3, 4, 1, 4), (0, 4, 2, 4), (4, 2, 2, 2), (1, 2, 3, 2), (4, 0, 4, 2), (4, 3, 4, 1), (5, 4, 3, 4), (4, 6, 4, 4), (6, 2, 4, 2), (3, 2, 5, 2), (6, 4, 6, 2), (6, 2, 4, 2), (4, 1, 4, 3), (4, 3, 4, 5), (2, 4, 4, 4), (4, 5, 4, 3), (4, 3, 6, 3)]\n"
          ]
        }
      ]
    },
    {
      "cell_type": "markdown",
      "source": [
        "HOMEWORK 9 PART A QN 1"
      ],
      "metadata": {
        "id": "R4I_etnC4odB"
      }
    },
    {
      "cell_type": "code",
      "source": [
        "def oddCount(L):\n",
        "    if len(L) == 0:  # Base case: empty list\n",
        "        return 0\n",
        "    else:\n",
        "        # Check if the first element is odd\n",
        "        if L[0] % 2 != 0:\n",
        "            return 1 + oddCount(L[1:])  # Add 1 for odd and recursively count remaining elements\n",
        "        else:\n",
        "            return oddCount(L[1:])  # No addition for even, recursively count remaining elements\n",
        "\n",
        "# Testing the function\n",
        "print(oddCount([1, 2, 3, 4, 5]))  # Output: 3 (3 odd numbers: 1, 3, 5)\n",
        "print(oddCount([2, 4, 6, 8, 10]))  # Output: 0 (no odd numbers)\n",
        "print(oddCount([1, 3, 5, 7, 9]))  # Output: 5 (all numbers are odd)\n",
        "print(oddCount([]))  # Output: 0 (empty list)\n",
        "#Time Complexity: O(n)\n",
        "#Space Complexity: O(n)\n",
        "#The function has linear time and space complexity, making it efficient for processing lists of integers, even for large inputs.\n",
        "\n",
        "#best case:O(1)\n",
        "#worst case:O(n)\n"
      ],
      "metadata": {
        "id": "CFPNTsx94tJA"
      },
      "execution_count": null,
      "outputs": []
    },
    {
      "cell_type": "markdown",
      "source": [
        "QUESTION 2"
      ],
      "metadata": {
        "id": "Fob2QDaU48LM"
      }
    },
    {
      "cell_type": "code",
      "source": [
        "def oddSum(L):\n",
        "    if len(L) == 0:  # Base case: empty list\n",
        "        return 0\n",
        "    else:\n",
        "        # Check if the first element is odd\n",
        "        if L[0] % 2 != 0:\n",
        "            return L[0] + oddSum(L[1:])  # Add the current odd number and recursively sum the remaining elements\n",
        "        else:\n",
        "            return oddSum(L[1:])  # No addition for even, recursively sum the remaining elements\n",
        "\n",
        "# Testing the function\n",
        "print(oddSum([1, 2, 3, 4, 5]))  # Output: 9 (sum of odd numbers: 1 + 3 + 5)\n",
        "print(oddSum([2, 4, 6, 8, 10]))  # Output: 0 (no odd numbers, return 0)\n",
        "print(oddSum([1, 3, 5, 7, 9]))  # Output: 25 (sum of all odd numbers: 1 + 3 + 5 + 7 + 9)\n",
        "print(oddSum([]))  # Output: 0 (empty list, return 0)\n",
        "# Best Case:\n",
        "# Time Complexity: O(1)\n",
        "# Space Complexity: O(1)\n",
        "# Description: The best case occurs when the list is empty. In this case, the function immediately returns 0 without performing any recursive calls or operations.\n",
        "\n",
        "# Worst Case:\n",
        "# Time Complexity: O(n)\n",
        "# Space Complexity: O(n)\n",
        "# Description: The worst case occurs when all elements of the list are odd. In this case, the function needs to process each element to calculate the sum. Since there are n elements in the list and the function checks each element once, the time complexity is O(n). The space complexity is also O(n) due to the recursive calls, as the recursion depth will be equal to the number of elements in the list.\n"
      ],
      "metadata": {
        "id": "3Yzqj2Ld4_gv"
      },
      "execution_count": null,
      "outputs": []
    },
    {
      "cell_type": "markdown",
      "source": [
        "QUESTION 3"
      ],
      "metadata": {
        "id": "3WYbFc7a5I7T"
      }
    },
    {
      "cell_type": "code",
      "source": [
        "def oddsOnly(L):\n",
        "    if len(L) == 0:  # Base case: empty list\n",
        "        return []   # Return an empty list\n",
        "    else:\n",
        "        if L[0] % 2 != 0:  # If the first element is odd\n",
        "            return [L[0]] + oddsOnly(L[1:])  # Add it to the result and recursively process the remaining elements\n",
        "        else:\n",
        "            return oddsOnly(L[1:])  # If the first element is even, recursively process the remaining elements\n",
        "\n",
        "# Testing the function\n",
        "print(oddsOnly([1, 2, 3, 4, 5]))  # Output: [1, 3, 5]\n",
        "print(oddsOnly([2, 4, 6, 8, 10]))  # Output: []\n",
        "print(oddsOnly([1, 3, 5, 7, 9]))  # Output: [1, 3, 5, 7, 9]\n",
        "print(oddsOnly([]))  # Output: []\n",
        "# Best Case:\n",
        "# Time Complexity: O(1)\n",
        "# Space Complexity: O(1)\n",
        "# Description: The best case occurs when the list is empty. In this case, the function immediately returns an empty list without performing any recursive calls or operations.\n",
        "\n",
        "# Worst Case:\n",
        "# Time Complexity: O(n)\n",
        "# Space Complexity: O(n)\n",
        "# Description: The worst case occurs when all elements of the list are odd. In this case, the function needs to construct a new list containing all elements of the original list. Since there are n elements in the list and the function checks each element once, the time complexity is O(n). The space complexity is also O(n) due to the recursive calls, as the recursion depth will be equal to the number of elements in the list.\n"
      ],
      "metadata": {
        "id": "_kZEK9nU5LfF"
      },
      "execution_count": null,
      "outputs": []
    },
    {
      "cell_type": "markdown",
      "source": [
        "QUESTION 4"
      ],
      "metadata": {
        "id": "7cD_pAI35Tlk"
      }
    },
    {
      "cell_type": "code",
      "source": [
        "def maxOdd(L):\n",
        "    if len(L) == 0:  # Base case: empty list\n",
        "        return None  # Return None if list is empty\n",
        "    else:\n",
        "        # Recursive cases:\n",
        "        if L[0] % 2 != 0:  # If the first element is odd\n",
        "            # Recursively find the maximum odd integer in the rest of the list\n",
        "            rest_max = maxOdd(L[1:])\n",
        "            if rest_max is not None:  # If there are odd integers in the rest of the list\n",
        "                return max(L[0], rest_max)  # Return the maximum of the current odd integer and the maximum from the rest\n",
        "            else:\n",
        "                return L[0]  # If there are no odd integers in the rest, return the current odd integer\n",
        "        else:\n",
        "            # If the first element is even, recursively find the maximum odd integer in the rest of the list\n",
        "            return maxOdd(L[1:])\n",
        "\n",
        "# Testing the function\n",
        "print(maxOdd([1, 2, 3, 4, 5]))  # Output: 5\n",
        "print(maxOdd([2, 4, 6, 8, 10]))  # Output: None\n",
        "print(maxOdd([1, 3, 5, 7, 9]))  # Output: 9\n",
        "print(maxOdd([]))  # Output: None\n",
        "# Best Case:\n",
        "# Time Complexity: O(n)\n",
        "# Space Complexity: O(n)\n",
        "# The best case occurs when the first odd integer in the list is the largest odd integer. In this case, the function needs to traverse through all elements of the list once to determine the maximum odd integer. The time and space complexity are both O(n) because the function checks each element once and the recursion depth is equal to the number of elements in the list.\n",
        "\n",
        "# Worst Case:\n",
        "# Time Complexity: O(n)\n",
        "# Space Complexity: O(n)\n",
        "# The worst case occurs when the largest odd integer is the last odd integer in the list or when there are no odd integers in the list. In this case, the function needs to traverse through all elements of the list and then return None. The time and space complexity are both O(n) because the function checks each element once and the recursion depth is equal to the number of elements in the list.\n"
      ],
      "metadata": {
        "id": "WeBgLQs15Vuj"
      },
      "execution_count": null,
      "outputs": []
    },
    {
      "cell_type": "markdown",
      "source": [
        "PART B QN 6"
      ],
      "metadata": {
        "id": "8YOZbmpf5gHC"
      }
    },
    {
      "cell_type": "code",
      "source": [
        "def hasConsecutiveDigits(n):\n",
        "    # Convert negative number to positive for easier processing\n",
        "    n = abs(n)\n",
        "\n",
        "    # Base case: If the number is less than 10, it cannot have consecutive digits\n",
        "    if n < 10:\n",
        "        return False\n",
        "    else:\n",
        "        # Recursive case: Check if the last two digits are the same\n",
        "        last_digit = n % 10\n",
        "        second_last_digit = (n // 10) % 10\n",
        "        if last_digit == second_last_digit:\n",
        "            return True\n",
        "        else:\n",
        "            # Recursively check the remaining digits\n",
        "            return hasConsecutiveDigits(n // 10)\n",
        "\n",
        "# Best Case:\n",
        "# Time Complexity: O(1)\n",
        "# Space Complexity: O(1)\n",
        "# Description: The best case occurs when the number is less than 10. In this case, the function returns False without performing any recursive calls or operations. The time and space complexity are both constant because the function has a fixed number of operations to check if the number is less than 10.\n",
        "\n",
        "# Worst Case:\n",
        "# Time Complexity: O(d)\n",
        "# Space Complexity: O(d)\n",
        "# Description: The worst case occurs when the number has d digits, and the last two digits are different. In this case, the function needs to perform d - 1 recursive calls to check each pair of consecutive digits until it finds two consecutive digits that are the same or reaches the end of the number. The time and space complexity are both linear with respect to the number of digits in the input number.\n"
      ],
      "metadata": {
        "id": "GJxlECbV5izG"
      },
      "execution_count": null,
      "outputs": []
    },
    {
      "cell_type": "markdown",
      "source": [
        "QUESTION 7"
      ],
      "metadata": {
        "id": "Bm3yCt-75qyA"
      }
    },
    {
      "cell_type": "code",
      "source": [
        "def alternatingSum(L, is_add=True):\n",
        "    if len(L) == 0:  # Base case: empty list\n",
        "        return 0\n",
        "    else:\n",
        "        # Recursive case:\n",
        "        if is_add:  # Add the first element if is_add is True\n",
        "            return L[0] + alternatingSum(L[1:], False)\n",
        "        else:  # Subtract the first element if is_add is False\n",
        "            return -L[0] + alternatingSum(L[1:], True)\n",
        "\n",
        "# Testing the function\n",
        "print(alternatingSum([1, 2, 3, 4, 5]))  # Output: 3 (1 - 2 + 3 - 4 + 5)\n",
        "print(alternatingSum([]))  # Output: 0 (empty list)\n",
        "print(alternatingSum([1]))  # Output: 1 (single-element list)\n",
        "print(alternatingSum([1, 2, 3]))  # Output: 2 (1 - 2 + 3)\n",
        "print(alternatingSum([10, 20, 30, 40, 50]))  # Output: 60 (10 - 20 + 30 - 40 + 50)\n",
        "# Best Case:\n",
        "# Time Complexity: O(1)\n",
        "# Space Complexity: O(1)\n",
        "# Description: The best case occurs when the list is empty. In this case, the function immediately returns 0 without performing any recursive calls or operations. Both time and space complexities are constant.\n",
        "\n",
        "# Worst Case:\n",
        "# Time Complexity: O(n)\n",
        "# Space Complexity: O(n)\n",
        "# Description: The worst case occurs when the list has n elements. In this case, the function recursively processes each element of the list once. The time complexity is linear with respect to the number of elements in the list, and the space complexity is also linear due to the recursion stack.\n"
      ],
      "metadata": {
        "id": "F9l4u35y5uj7"
      },
      "execution_count": null,
      "outputs": []
    }
  ]
}